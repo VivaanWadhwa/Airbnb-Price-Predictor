{
 "cells": [
  {
   "cell_type": "code",
   "execution_count": 36,
   "metadata": {},
   "outputs": [],
   "source": [
    "from hashlib import sha1\n",
    "import matplotlib.pyplot as plt\n",
    "import numpy as np\n",
    "import pandas as pd\n",
    "import random\n",
    "import seaborn as sns\n",
    "\n",
    "plt.rcParams[\"font.size\"] = 16\n",
    "\n",
    "from sklearn.compose import (\n",
    "    ColumnTransformer,\n",
    "    TransformedTargetRegressor,\n",
    "    make_column_transformer,\n",
    ")\n",
    "from sklearn.dummy import DummyRegressor\n",
    "from sklearn.tree import DecisionTreeRegressor\n",
    "from sklearn.ensemble import RandomForestRegressor\n",
    "from sklearn.linear_model import Ridge, RidgeCV\n",
    "from sklearn.metrics import make_scorer, mean_absolute_percentage_error\n",
    "from sklearn.model_selection import GridSearchCV, cross_val_score, cross_validate, train_test_split \n",
    "from sklearn.pipeline import Pipeline, make_pipeline\n",
    "from sklearn.preprocessing import OneHotEncoder, StandardScaler,KBinsDiscretizer\n",
    "from lightgbm.sklearn import LGBMRegressor\n",
    "from sklearn.feature_selection import RFECV\n",
    "from sklearn.model_selection import RandomizedSearchCV\n",
    "from sklearn.feature_selection import SelectFromModel\n",
    "import seaborn as sns\n",
    "# import shap\n",
    "import joblib"
   ]
  },
  {
   "cell_type": "code",
   "execution_count": 3,
   "metadata": {},
   "outputs": [
    {
     "data": {
      "text/html": [
       "<div>\n",
       "<style scoped>\n",
       "    .dataframe tbody tr th:only-of-type {\n",
       "        vertical-align: middle;\n",
       "    }\n",
       "\n",
       "    .dataframe tbody tr th {\n",
       "        vertical-align: top;\n",
       "    }\n",
       "\n",
       "    .dataframe thead th {\n",
       "        text-align: right;\n",
       "    }\n",
       "</style>\n",
       "<table border=\"1\" class=\"dataframe\">\n",
       "  <thead>\n",
       "    <tr style=\"text-align: right;\">\n",
       "      <th></th>\n",
       "      <th>id</th>\n",
       "      <th>name</th>\n",
       "      <th>host_id</th>\n",
       "      <th>host_name</th>\n",
       "      <th>neighbourhood_group</th>\n",
       "      <th>neighbourhood</th>\n",
       "      <th>latitude</th>\n",
       "      <th>longitude</th>\n",
       "      <th>room_type</th>\n",
       "      <th>price</th>\n",
       "      <th>...</th>\n",
       "      <th>last_review</th>\n",
       "      <th>reviews_per_month</th>\n",
       "      <th>calculated_host_listings_count</th>\n",
       "      <th>availability_365</th>\n",
       "      <th>number_of_reviews_ltm</th>\n",
       "      <th>license</th>\n",
       "      <th>rating</th>\n",
       "      <th>bedrooms</th>\n",
       "      <th>beds</th>\n",
       "      <th>baths</th>\n",
       "    </tr>\n",
       "  </thead>\n",
       "  <tbody>\n",
       "    <tr>\n",
       "      <th>0</th>\n",
       "      <td>1312228</td>\n",
       "      <td>Rental unit in Brooklyn · ★5.0 · 1 bedroom</td>\n",
       "      <td>7130382</td>\n",
       "      <td>Walter</td>\n",
       "      <td>Brooklyn</td>\n",
       "      <td>Clinton Hill</td>\n",
       "      <td>40.683710</td>\n",
       "      <td>-73.964610</td>\n",
       "      <td>Private room</td>\n",
       "      <td>55.0</td>\n",
       "      <td>...</td>\n",
       "      <td>2015-12-20</td>\n",
       "      <td>0.03</td>\n",
       "      <td>1</td>\n",
       "      <td>0</td>\n",
       "      <td>0</td>\n",
       "      <td>No License</td>\n",
       "      <td>5.0</td>\n",
       "      <td>1</td>\n",
       "      <td>1</td>\n",
       "      <td>Not specified</td>\n",
       "    </tr>\n",
       "    <tr>\n",
       "      <th>1</th>\n",
       "      <td>45277537</td>\n",
       "      <td>Rental unit in New York · ★4.67 · 2 bedrooms ·...</td>\n",
       "      <td>51501835</td>\n",
       "      <td>Jeniffer</td>\n",
       "      <td>Manhattan</td>\n",
       "      <td>Hell's Kitchen</td>\n",
       "      <td>40.766610</td>\n",
       "      <td>-73.988100</td>\n",
       "      <td>Entire home/apt</td>\n",
       "      <td>144.0</td>\n",
       "      <td>...</td>\n",
       "      <td>2023-05-01</td>\n",
       "      <td>0.24</td>\n",
       "      <td>139</td>\n",
       "      <td>364</td>\n",
       "      <td>2</td>\n",
       "      <td>No License</td>\n",
       "      <td>4.67</td>\n",
       "      <td>2</td>\n",
       "      <td>1</td>\n",
       "      <td>1</td>\n",
       "    </tr>\n",
       "    <tr>\n",
       "      <th>2</th>\n",
       "      <td>971353993633883038</td>\n",
       "      <td>Rental unit in New York · ★4.17 · 1 bedroom · ...</td>\n",
       "      <td>528871354</td>\n",
       "      <td>Joshua</td>\n",
       "      <td>Manhattan</td>\n",
       "      <td>Chelsea</td>\n",
       "      <td>40.750764</td>\n",
       "      <td>-73.994605</td>\n",
       "      <td>Entire home/apt</td>\n",
       "      <td>187.0</td>\n",
       "      <td>...</td>\n",
       "      <td>2023-12-18</td>\n",
       "      <td>1.67</td>\n",
       "      <td>1</td>\n",
       "      <td>343</td>\n",
       "      <td>6</td>\n",
       "      <td>Exempt</td>\n",
       "      <td>4.17</td>\n",
       "      <td>1</td>\n",
       "      <td>2</td>\n",
       "      <td>1</td>\n",
       "    </tr>\n",
       "    <tr>\n",
       "      <th>3</th>\n",
       "      <td>3857863</td>\n",
       "      <td>Rental unit in New York · ★4.64 · 1 bedroom · ...</td>\n",
       "      <td>19902271</td>\n",
       "      <td>John And Catherine</td>\n",
       "      <td>Manhattan</td>\n",
       "      <td>Washington Heights</td>\n",
       "      <td>40.835600</td>\n",
       "      <td>-73.942500</td>\n",
       "      <td>Private room</td>\n",
       "      <td>120.0</td>\n",
       "      <td>...</td>\n",
       "      <td>2023-09-17</td>\n",
       "      <td>1.38</td>\n",
       "      <td>2</td>\n",
       "      <td>363</td>\n",
       "      <td>12</td>\n",
       "      <td>No License</td>\n",
       "      <td>4.64</td>\n",
       "      <td>1</td>\n",
       "      <td>1</td>\n",
       "      <td>1</td>\n",
       "    </tr>\n",
       "    <tr>\n",
       "      <th>4</th>\n",
       "      <td>40896611</td>\n",
       "      <td>Condo in New York · ★4.91 · Studio · 1 bed · 1...</td>\n",
       "      <td>61391963</td>\n",
       "      <td>Stay With Vibe</td>\n",
       "      <td>Manhattan</td>\n",
       "      <td>Murray Hill</td>\n",
       "      <td>40.751120</td>\n",
       "      <td>-73.978600</td>\n",
       "      <td>Entire home/apt</td>\n",
       "      <td>85.0</td>\n",
       "      <td>...</td>\n",
       "      <td>2023-12-03</td>\n",
       "      <td>0.24</td>\n",
       "      <td>133</td>\n",
       "      <td>335</td>\n",
       "      <td>3</td>\n",
       "      <td>No License</td>\n",
       "      <td>4.91</td>\n",
       "      <td>Studio</td>\n",
       "      <td>1</td>\n",
       "      <td>1</td>\n",
       "    </tr>\n",
       "  </tbody>\n",
       "</table>\n",
       "<p>5 rows × 22 columns</p>\n",
       "</div>"
      ],
      "text/plain": [
       "                   id                                               name  \\\n",
       "0             1312228         Rental unit in Brooklyn · ★5.0 · 1 bedroom   \n",
       "1            45277537  Rental unit in New York · ★4.67 · 2 bedrooms ·...   \n",
       "2  971353993633883038  Rental unit in New York · ★4.17 · 1 bedroom · ...   \n",
       "3             3857863  Rental unit in New York · ★4.64 · 1 bedroom · ...   \n",
       "4            40896611  Condo in New York · ★4.91 · Studio · 1 bed · 1...   \n",
       "\n",
       "     host_id           host_name neighbourhood_group       neighbourhood  \\\n",
       "0    7130382              Walter            Brooklyn        Clinton Hill   \n",
       "1   51501835            Jeniffer           Manhattan      Hell's Kitchen   \n",
       "2  528871354              Joshua           Manhattan             Chelsea   \n",
       "3   19902271  John And Catherine           Manhattan  Washington Heights   \n",
       "4   61391963      Stay With Vibe           Manhattan         Murray Hill   \n",
       "\n",
       "    latitude  longitude        room_type  price  ...  last_review  \\\n",
       "0  40.683710 -73.964610     Private room   55.0  ...   2015-12-20   \n",
       "1  40.766610 -73.988100  Entire home/apt  144.0  ...   2023-05-01   \n",
       "2  40.750764 -73.994605  Entire home/apt  187.0  ...   2023-12-18   \n",
       "3  40.835600 -73.942500     Private room  120.0  ...   2023-09-17   \n",
       "4  40.751120 -73.978600  Entire home/apt   85.0  ...   2023-12-03   \n",
       "\n",
       "   reviews_per_month calculated_host_listings_count  availability_365  \\\n",
       "0               0.03                              1                 0   \n",
       "1               0.24                            139               364   \n",
       "2               1.67                              1               343   \n",
       "3               1.38                              2               363   \n",
       "4               0.24                            133               335   \n",
       "\n",
       "   number_of_reviews_ltm     license  rating bedrooms beds          baths  \n",
       "0                      0  No License    5.0         1    1  Not specified  \n",
       "1                      2  No License   4.67         2    1              1  \n",
       "2                      6      Exempt   4.17         1    2              1  \n",
       "3                     12  No License   4.64         1    1              1  \n",
       "4                      3  No License   4.91    Studio    1              1  \n",
       "\n",
       "[5 rows x 22 columns]"
      ]
     },
     "execution_count": 3,
     "metadata": {},
     "output_type": "execute_result"
    }
   ],
   "source": [
    "df = pd.read_csv(\"data/data.csv\")\n",
    "df.head()"
   ]
  },
  {
   "cell_type": "code",
   "execution_count": 4,
   "metadata": {},
   "outputs": [
    {
     "name": "stdout",
     "output_type": "stream",
     "text": [
      "<class 'pandas.core.frame.DataFrame'>\n",
      "RangeIndex: 20758 entries, 0 to 20757\n",
      "Data columns (total 22 columns):\n",
      " #   Column                          Non-Null Count  Dtype  \n",
      "---  ------                          --------------  -----  \n",
      " 0   id                              20758 non-null  int64  \n",
      " 1   name                            20758 non-null  object \n",
      " 2   host_id                         20758 non-null  int64  \n",
      " 3   host_name                       20758 non-null  object \n",
      " 4   neighbourhood_group             20758 non-null  object \n",
      " 5   neighbourhood                   20758 non-null  object \n",
      " 6   latitude                        20758 non-null  float64\n",
      " 7   longitude                       20758 non-null  float64\n",
      " 8   room_type                       20758 non-null  object \n",
      " 9   price                           20758 non-null  float64\n",
      " 10  minimum_nights                  20758 non-null  int64  \n",
      " 11  number_of_reviews               20758 non-null  int64  \n",
      " 12  last_review                     20758 non-null  object \n",
      " 13  reviews_per_month               20758 non-null  float64\n",
      " 14  calculated_host_listings_count  20758 non-null  int64  \n",
      " 15  availability_365                20758 non-null  int64  \n",
      " 16  number_of_reviews_ltm           20758 non-null  int64  \n",
      " 17  license                         20758 non-null  object \n",
      " 18  rating                          20758 non-null  object \n",
      " 19  bedrooms                        20758 non-null  object \n",
      " 20  beds                            20758 non-null  int64  \n",
      " 21  baths                           20758 non-null  object \n",
      "dtypes: float64(4), int64(8), object(10)\n",
      "memory usage: 3.5+ MB\n"
     ]
    }
   ],
   "source": [
    "df.info()"
   ]
  },
  {
   "cell_type": "code",
   "execution_count": 5,
   "metadata": {},
   "outputs": [
    {
     "data": {
      "text/html": [
       "<div>\n",
       "<style scoped>\n",
       "    .dataframe tbody tr th:only-of-type {\n",
       "        vertical-align: middle;\n",
       "    }\n",
       "\n",
       "    .dataframe tbody tr th {\n",
       "        vertical-align: top;\n",
       "    }\n",
       "\n",
       "    .dataframe thead th {\n",
       "        text-align: right;\n",
       "    }\n",
       "</style>\n",
       "<table border=\"1\" class=\"dataframe\">\n",
       "  <thead>\n",
       "    <tr style=\"text-align: right;\">\n",
       "      <th></th>\n",
       "      <th>id</th>\n",
       "      <th>host_id</th>\n",
       "      <th>latitude</th>\n",
       "      <th>longitude</th>\n",
       "      <th>price</th>\n",
       "      <th>minimum_nights</th>\n",
       "      <th>number_of_reviews</th>\n",
       "      <th>reviews_per_month</th>\n",
       "      <th>calculated_host_listings_count</th>\n",
       "      <th>availability_365</th>\n",
       "      <th>number_of_reviews_ltm</th>\n",
       "      <th>beds</th>\n",
       "    </tr>\n",
       "  </thead>\n",
       "  <tbody>\n",
       "    <tr>\n",
       "      <th>count</th>\n",
       "      <td>2.075800e+04</td>\n",
       "      <td>2.075800e+04</td>\n",
       "      <td>20758.000000</td>\n",
       "      <td>20758.000000</td>\n",
       "      <td>20758.000000</td>\n",
       "      <td>20758.000000</td>\n",
       "      <td>20758.000000</td>\n",
       "      <td>20758.000000</td>\n",
       "      <td>20758.000000</td>\n",
       "      <td>20758.000000</td>\n",
       "      <td>20758.000000</td>\n",
       "      <td>20758.000000</td>\n",
       "    </tr>\n",
       "    <tr>\n",
       "      <th>mean</th>\n",
       "      <td>3.034044e+17</td>\n",
       "      <td>1.749316e+08</td>\n",
       "      <td>40.726798</td>\n",
       "      <td>-73.939161</td>\n",
       "      <td>187.776616</td>\n",
       "      <td>28.558435</td>\n",
       "      <td>42.642596</td>\n",
       "      <td>1.257910</td>\n",
       "      <td>18.844108</td>\n",
       "      <td>205.990317</td>\n",
       "      <td>10.852105</td>\n",
       "      <td>1.723721</td>\n",
       "    </tr>\n",
       "    <tr>\n",
       "      <th>std</th>\n",
       "      <td>3.901216e+17</td>\n",
       "      <td>1.725541e+08</td>\n",
       "      <td>0.060294</td>\n",
       "      <td>0.061403</td>\n",
       "      <td>1022.797208</td>\n",
       "      <td>33.536518</td>\n",
       "      <td>73.561654</td>\n",
       "      <td>1.904661</td>\n",
       "      <td>70.910834</td>\n",
       "      <td>135.087768</td>\n",
       "      <td>21.357071</td>\n",
       "      <td>1.212272</td>\n",
       "    </tr>\n",
       "    <tr>\n",
       "      <th>min</th>\n",
       "      <td>2.595000e+03</td>\n",
       "      <td>1.678000e+03</td>\n",
       "      <td>40.500314</td>\n",
       "      <td>-74.249840</td>\n",
       "      <td>10.000000</td>\n",
       "      <td>1.000000</td>\n",
       "      <td>1.000000</td>\n",
       "      <td>0.010000</td>\n",
       "      <td>1.000000</td>\n",
       "      <td>0.000000</td>\n",
       "      <td>0.000000</td>\n",
       "      <td>1.000000</td>\n",
       "    </tr>\n",
       "    <tr>\n",
       "      <th>25%</th>\n",
       "      <td>2.708808e+07</td>\n",
       "      <td>2.041738e+07</td>\n",
       "      <td>40.684150</td>\n",
       "      <td>-73.980710</td>\n",
       "      <td>80.000000</td>\n",
       "      <td>30.000000</td>\n",
       "      <td>4.000000</td>\n",
       "      <td>0.210000</td>\n",
       "      <td>1.000000</td>\n",
       "      <td>87.000000</td>\n",
       "      <td>1.000000</td>\n",
       "      <td>1.000000</td>\n",
       "    </tr>\n",
       "    <tr>\n",
       "      <th>50%</th>\n",
       "      <td>4.993003e+07</td>\n",
       "      <td>1.087271e+08</td>\n",
       "      <td>40.722820</td>\n",
       "      <td>-73.949587</td>\n",
       "      <td>125.000000</td>\n",
       "      <td>30.000000</td>\n",
       "      <td>14.000000</td>\n",
       "      <td>0.650000</td>\n",
       "      <td>2.000000</td>\n",
       "      <td>215.000000</td>\n",
       "      <td>3.000000</td>\n",
       "      <td>1.000000</td>\n",
       "    </tr>\n",
       "    <tr>\n",
       "      <th>75%</th>\n",
       "      <td>7.216019e+17</td>\n",
       "      <td>3.144102e+08</td>\n",
       "      <td>40.763098</td>\n",
       "      <td>-73.917460</td>\n",
       "      <td>199.000000</td>\n",
       "      <td>30.000000</td>\n",
       "      <td>49.000000</td>\n",
       "      <td>1.800000</td>\n",
       "      <td>5.000000</td>\n",
       "      <td>353.000000</td>\n",
       "      <td>15.000000</td>\n",
       "      <td>2.000000</td>\n",
       "    </tr>\n",
       "    <tr>\n",
       "      <th>max</th>\n",
       "      <td>1.054376e+18</td>\n",
       "      <td>5.504035e+08</td>\n",
       "      <td>40.911147</td>\n",
       "      <td>-73.713650</td>\n",
       "      <td>100000.000000</td>\n",
       "      <td>1250.000000</td>\n",
       "      <td>1865.000000</td>\n",
       "      <td>75.490000</td>\n",
       "      <td>713.000000</td>\n",
       "      <td>365.000000</td>\n",
       "      <td>1075.000000</td>\n",
       "      <td>42.000000</td>\n",
       "    </tr>\n",
       "  </tbody>\n",
       "</table>\n",
       "</div>"
      ],
      "text/plain": [
       "                 id       host_id      latitude     longitude          price  \\\n",
       "count  2.075800e+04  2.075800e+04  20758.000000  20758.000000   20758.000000   \n",
       "mean   3.034044e+17  1.749316e+08     40.726798    -73.939161     187.776616   \n",
       "std    3.901216e+17  1.725541e+08      0.060294      0.061403    1022.797208   \n",
       "min    2.595000e+03  1.678000e+03     40.500314    -74.249840      10.000000   \n",
       "25%    2.708808e+07  2.041738e+07     40.684150    -73.980710      80.000000   \n",
       "50%    4.993003e+07  1.087271e+08     40.722820    -73.949587     125.000000   \n",
       "75%    7.216019e+17  3.144102e+08     40.763098    -73.917460     199.000000   \n",
       "max    1.054376e+18  5.504035e+08     40.911147    -73.713650  100000.000000   \n",
       "\n",
       "       minimum_nights  number_of_reviews  reviews_per_month  \\\n",
       "count    20758.000000       20758.000000       20758.000000   \n",
       "mean        28.558435          42.642596           1.257910   \n",
       "std         33.536518          73.561654           1.904661   \n",
       "min          1.000000           1.000000           0.010000   \n",
       "25%         30.000000           4.000000           0.210000   \n",
       "50%         30.000000          14.000000           0.650000   \n",
       "75%         30.000000          49.000000           1.800000   \n",
       "max       1250.000000        1865.000000          75.490000   \n",
       "\n",
       "       calculated_host_listings_count  availability_365  \\\n",
       "count                    20758.000000      20758.000000   \n",
       "mean                        18.844108        205.990317   \n",
       "std                         70.910834        135.087768   \n",
       "min                          1.000000          0.000000   \n",
       "25%                          1.000000         87.000000   \n",
       "50%                          2.000000        215.000000   \n",
       "75%                          5.000000        353.000000   \n",
       "max                        713.000000        365.000000   \n",
       "\n",
       "       number_of_reviews_ltm          beds  \n",
       "count           20758.000000  20758.000000  \n",
       "mean               10.852105      1.723721  \n",
       "std                21.357071      1.212272  \n",
       "min                 0.000000      1.000000  \n",
       "25%                 1.000000      1.000000  \n",
       "50%                 3.000000      1.000000  \n",
       "75%                15.000000      2.000000  \n",
       "max              1075.000000     42.000000  "
      ]
     },
     "execution_count": 5,
     "metadata": {},
     "output_type": "execute_result"
    }
   ],
   "source": [
    "df.describe()"
   ]
  },
  {
   "cell_type": "code",
   "execution_count": 6,
   "metadata": {},
   "outputs": [
    {
     "name": "stdout",
     "output_type": "stream",
     "text": [
      "(20758, 22)\n"
     ]
    },
    {
     "data": {
      "text/plain": [
       "id                                0\n",
       "name                              0\n",
       "host_id                           0\n",
       "host_name                         0\n",
       "neighbourhood_group               0\n",
       "neighbourhood                     0\n",
       "latitude                          0\n",
       "longitude                         0\n",
       "room_type                         0\n",
       "price                             0\n",
       "minimum_nights                    0\n",
       "number_of_reviews                 0\n",
       "last_review                       0\n",
       "reviews_per_month                 0\n",
       "calculated_host_listings_count    0\n",
       "availability_365                  0\n",
       "number_of_reviews_ltm             0\n",
       "license                           0\n",
       "rating                            0\n",
       "bedrooms                          0\n",
       "beds                              0\n",
       "baths                             0\n",
       "dtype: int64"
      ]
     },
     "execution_count": 6,
     "metadata": {},
     "output_type": "execute_result"
    }
   ],
   "source": [
    "print(df.shape)\n",
    "df.isnull().sum()"
   ]
  },
  {
   "cell_type": "code",
   "execution_count": 7,
   "metadata": {},
   "outputs": [
    {
     "name": "stdout",
     "output_type": "stream",
     "text": [
      "<class 'pandas.core.frame.DataFrame'>\n",
      "RangeIndex: 20758 entries, 0 to 20757\n",
      "Data columns (total 22 columns):\n",
      " #   Column                          Non-Null Count  Dtype  \n",
      "---  ------                          --------------  -----  \n",
      " 0   id                              20758 non-null  int64  \n",
      " 1   name                            20758 non-null  object \n",
      " 2   host_id                         20758 non-null  int64  \n",
      " 3   host_name                       20758 non-null  object \n",
      " 4   neighbourhood_group             20758 non-null  object \n",
      " 5   neighbourhood                   20758 non-null  object \n",
      " 6   latitude                        20758 non-null  float64\n",
      " 7   longitude                       20758 non-null  float64\n",
      " 8   room_type                       20758 non-null  object \n",
      " 9   price                           20758 non-null  float64\n",
      " 10  minimum_nights                  20758 non-null  int64  \n",
      " 11  number_of_reviews               20758 non-null  int64  \n",
      " 12  last_review                     20758 non-null  object \n",
      " 13  reviews_per_month               20758 non-null  float64\n",
      " 14  calculated_host_listings_count  20758 non-null  int64  \n",
      " 15  availability_365                20758 non-null  int64  \n",
      " 16  number_of_reviews_ltm           20758 non-null  int64  \n",
      " 17  license                         20758 non-null  object \n",
      " 18  rating                          20758 non-null  object \n",
      " 19  bedrooms                        20758 non-null  object \n",
      " 20  beds                            20758 non-null  int64  \n",
      " 21  baths                           20758 non-null  object \n",
      "dtypes: float64(4), int64(8), object(10)\n",
      "memory usage: 3.5+ MB\n"
     ]
    }
   ],
   "source": [
    "df.info()"
   ]
  },
  {
   "cell_type": "code",
   "execution_count": 8,
   "metadata": {},
   "outputs": [
    {
     "data": {
      "image/png": "[encoded data removed]",
      "text/plain": [
       "<Figure size 640x480 with 1 Axes>"
      ]
     },
     "metadata": {},
     "output_type": "display_data"
    },
    {
     "data": {
      "image/png": "[encoded data removed]",
      "text/plain": [
       "<Figure size 640x480 with 1 Axes>"
      ]
     },
     "metadata": {},
     "output_type": "display_data"
    },
    {
     "data": {
      "image/png": "[encoded data removed]",
      "text/plain": [
       "<Figure size 640x480 with 1 Axes>"
      ]
     },
     "metadata": {},
     "output_type": "display_data"
    },
    {
     "data": {
      "image/png": "[encoded data removed]",
      "text/plain": [
       "<Figure size 640x480 with 1 Axes>"
      ]
     },
     "metadata": {},
     "output_type": "display_data"
    },
    {
     "data": {
      "image/png": "[encoded data removed]",
      "text/plain": [
       "<Figure size 640x480 with 1 Axes>"
      ]
     },
     "metadata": {},
     "output_type": "display_data"
    },
    {
     "data": {
      "image/png": "[encoded data removed]",
      "text/plain": [
       "<Figure size 640x480 with 1 Axes>"
      ]
     },
     "metadata": {},
     "output_type": "display_data"
    },
    {
     "data": {
      "image/png": "[encoded data removed]",
      "text/plain": [
       "<Figure size 640x480 with 1 Axes>"
      ]
     },
     "metadata": {},
     "output_type": "display_data"
    }
   ],
   "source": [
    "numerical_columns = ['latitude', 'longitude', 'minimum_nights', 'number_of_reviews', 'reviews_per_month', 'calculated_host_listings_count', 'availability_365']\n",
    "for i in numerical_columns:\n",
    "    plot = sns.boxplot(x=df[i])\n",
    "    plt.show()"
   ]
  },
  {
   "cell_type": "code",
   "execution_count": 9,
   "metadata": {},
   "outputs": [],
   "source": [
    "train_df,test_df= train_test_split(df,test_size = 0.3)\n",
    "\n",
    "X_train = train_df.drop(columns=['price'])\n",
    "y_train = train_df['price']\n",
    "\n",
    "X_test = test_df.drop(columns=['price'])\n",
    "y_test = test_df['price']"
   ]
  },
  {
   "cell_type": "markdown",
   "metadata": {},
   "source": [
    "We will be dropping id, host_name,latitude, longitude, reviews_per_month, number_of_reviews_ltm, license. "
   ]
  },
  {
   "cell_type": "code",
   "execution_count": 10,
   "metadata": {},
   "outputs": [
    {
     "name": "stdout",
     "output_type": "stream",
     "text": [
      "room_type\n",
      "Entire home/apt    11549\n",
      "Private room        8804\n",
      "Shared room          293\n",
      "Hotel room           112\n",
      "Name: count, dtype: int64\n"
     ]
    }
   ],
   "source": [
    "print(df['room_type'].value_counts())"
   ]
  },
  {
   "cell_type": "code",
   "execution_count": 11,
   "metadata": {},
   "outputs": [],
   "source": [
    "numerical_feats = ['minimum_nights', 'number_of_reviews', 'calculated_host_listings_count', 'availability_365']\n",
    "categorical_feats = ['neighbourhood_group', 'room_type', \"neighbourhood\"]\n",
    "drop_feats = [\"id\", \"host_name\",\"latitude\", \"longitude\", \"reviews_per_month\", \"number_of_reviews_ltm\", \"license\"]"
   ]
  },
  {
   "cell_type": "code",
   "execution_count": 12,
   "metadata": {},
   "outputs": [],
   "source": [
    "preprocessor = make_column_transformer(\n",
    "    (OneHotEncoder(sparse_output = False, handle_unknown=\"ignore\"), categorical_feats),\n",
    "    (StandardScaler(), numerical_feats),\n",
    "    (\"drop\", drop_feats)\n",
    ")"
   ]
  },
  {
   "cell_type": "code",
   "execution_count": 13,
   "metadata": {},
   "outputs": [],
   "source": [
    "def mean_std_cross_val_scores(model, X_train, y_train, **kwargs):\n",
    "    \"\"\"\n",
    "    Returns mean and std of cross validation\n",
    "\n",
    "    Parameters\n",
    "    ----------\n",
    "    model :\n",
    "        scikit-learn model\n",
    "    X_train : numpy array or pandas DataFrame\n",
    "        X in the training data\n",
    "    y_train :\n",
    "        y in the training data\n",
    "\n",
    "    Returns\n",
    "    ----------\n",
    "        pandas Series with mean scores from cross_validation\n",
    "    \"\"\"\n",
    "\n",
    "    scores = cross_validate(model, X_train, y_train, **kwargs)\n",
    "\n",
    "    mean_scores = pd.DataFrame(scores).mean()\n",
    "    std_scores = pd.DataFrame(scores).std()\n",
    "    out_col = []\n",
    "\n",
    "    for i in range(len(mean_scores)):\n",
    "        out_col.append((f\"%0.3f (+/- %0.3f)\" % (mean_scores[i], std_scores[i])))\n",
    "\n",
    "    return pd.Series(data=out_col, index=mean_scores.index)"
   ]
  },
  {
   "cell_type": "code",
   "execution_count": 14,
   "metadata": {},
   "outputs": [],
   "source": [
    "results = {}\n",
    "base_pipe = make_pipeline(preprocessor, DummyRegressor(strategy = \"mean\"))"
   ]
  },
  {
   "cell_type": "code",
   "execution_count": 15,
   "metadata": {},
   "outputs": [],
   "source": [
    "mape_scorer = make_scorer(mean_absolute_percentage_error, greater_is_better=False) # since we are scoring using MAPE."
   ]
  },
  {
   "cell_type": "code",
   "execution_count": 16,
   "metadata": {},
   "outputs": [
    {
     "name": "stderr",
     "output_type": "stream",
     "text": [
      "/var/folders/vw/q9jxxbp12n58z440pzxjmhpc0000gp/T/ipykernel_43506/4158382658.py:26: FutureWarning: Series.__getitem__ treating keys as positions is deprecated. In a future version, integer keys will always be treated as labels (consistent with DataFrame behavior). To access a value by position, use `ser.iloc[pos]`\n",
      "  out_col.append((f\"%0.3f (+/- %0.3f)\" % (mean_scores[i], std_scores[i])))\n"
     ]
    },
    {
     "data": {
      "text/html": [
       "<div>\n",
       "<style scoped>\n",
       "    .dataframe tbody tr th:only-of-type {\n",
       "        vertical-align: middle;\n",
       "    }\n",
       "\n",
       "    .dataframe tbody tr th {\n",
       "        vertical-align: top;\n",
       "    }\n",
       "\n",
       "    .dataframe thead th {\n",
       "        text-align: right;\n",
       "    }\n",
       "</style>\n",
       "<table border=\"1\" class=\"dataframe\">\n",
       "  <thead>\n",
       "    <tr style=\"text-align: right;\">\n",
       "      <th></th>\n",
       "      <th>fit_time</th>\n",
       "      <th>score_time</th>\n",
       "      <th>test_score</th>\n",
       "      <th>train_score</th>\n",
       "    </tr>\n",
       "  </thead>\n",
       "  <tbody>\n",
       "    <tr>\n",
       "      <th>0</th>\n",
       "      <td>0.100022</td>\n",
       "      <td>0.034796</td>\n",
       "      <td>-0.952883</td>\n",
       "      <td>-0.991581</td>\n",
       "    </tr>\n",
       "    <tr>\n",
       "      <th>1</th>\n",
       "      <td>0.070133</td>\n",
       "      <td>0.112428</td>\n",
       "      <td>-1.068642</td>\n",
       "      <td>-1.068242</td>\n",
       "    </tr>\n",
       "    <tr>\n",
       "      <th>2</th>\n",
       "      <td>0.276281</td>\n",
       "      <td>0.100963</td>\n",
       "      <td>-1.080370</td>\n",
       "      <td>-1.067998</td>\n",
       "    </tr>\n",
       "    <tr>\n",
       "      <th>3</th>\n",
       "      <td>0.092017</td>\n",
       "      <td>0.026910</td>\n",
       "      <td>-1.013871</td>\n",
       "      <td>-1.003848</td>\n",
       "    </tr>\n",
       "    <tr>\n",
       "      <th>4</th>\n",
       "      <td>0.052114</td>\n",
       "      <td>0.027601</td>\n",
       "      <td>-1.088909</td>\n",
       "      <td>-1.070454</td>\n",
       "    </tr>\n",
       "  </tbody>\n",
       "</table>\n",
       "</div>"
      ],
      "text/plain": [
       "   fit_time  score_time  test_score  train_score\n",
       "0  0.100022    0.034796   -0.952883    -0.991581\n",
       "1  0.070133    0.112428   -1.068642    -1.068242\n",
       "2  0.276281    0.100963   -1.080370    -1.067998\n",
       "3  0.092017    0.026910   -1.013871    -1.003848\n",
       "4  0.052114    0.027601   -1.088909    -1.070454"
      ]
     },
     "metadata": {},
     "output_type": "display_data"
    },
    {
     "data": {
      "text/html": [
       "<div>\n",
       "<style scoped>\n",
       "    .dataframe tbody tr th:only-of-type {\n",
       "        vertical-align: middle;\n",
       "    }\n",
       "\n",
       "    .dataframe tbody tr th {\n",
       "        vertical-align: top;\n",
       "    }\n",
       "\n",
       "    .dataframe thead th {\n",
       "        text-align: right;\n",
       "    }\n",
       "</style>\n",
       "<table border=\"1\" class=\"dataframe\">\n",
       "  <thead>\n",
       "    <tr style=\"text-align: right;\">\n",
       "      <th></th>\n",
       "      <th>fit_time</th>\n",
       "      <th>score_time</th>\n",
       "      <th>test_score</th>\n",
       "      <th>train_score</th>\n",
       "    </tr>\n",
       "  </thead>\n",
       "  <tbody>\n",
       "    <tr>\n",
       "      <th>Dummy</th>\n",
       "      <td>0.087 (+/- 0.048)</td>\n",
       "      <td>0.048 (+/- 0.047)</td>\n",
       "      <td>-1.041 (+/- 0.057)</td>\n",
       "      <td>-1.040 (+/- 0.039)</td>\n",
       "    </tr>\n",
       "  </tbody>\n",
       "</table>\n",
       "</div>"
      ],
      "text/plain": [
       "                fit_time         score_time          test_score  \\\n",
       "Dummy  0.087 (+/- 0.048)  0.048 (+/- 0.047)  -1.041 (+/- 0.057)   \n",
       "\n",
       "              train_score  \n",
       "Dummy  -1.040 (+/- 0.039)  "
      ]
     },
     "execution_count": 16,
     "metadata": {},
     "output_type": "execute_result"
    }
   ],
   "source": [
    "score_dummy = cross_validate(base_pipe, X_train, y_train, cv = 5,return_train_score=True,scoring=mape_scorer)\n",
    "results[\"Dummy\"] = mean_std_cross_val_scores( base_pipe, X_train, y_train, return_train_score=True, scoring=mape_scorer)\n",
    "display(pd.DataFrame(score_dummy))\n",
    "pd. DataFrame(results).T\n"
   ]
  },
  {
   "cell_type": "code",
   "execution_count": 17,
   "metadata": {},
   "outputs": [
    {
     "name": "stdout",
     "output_type": "stream",
     "text": [
      "Train scores are: [-0.44748331 -0.44748334 -0.44748368 -0.44748743 -0.44752419 -0.44775741\n",
      " -0.44911864 -0.45721628 -0.47524103 -0.5344213 ]\n",
      "Cross Validation scores are: [-0.45713021 -0.45713    -0.45712805 -0.457109   -0.45693803 -0.45595872\n",
      " -0.45469828 -0.45975477 -0.47600481 -0.53472562]\n"
     ]
    }
   ],
   "source": [
    "#Linear\n",
    "param_grid = {'transformedtargetregressor__regressor__alpha': 10.0 ** np.arange(-5, 5, 1)}\n",
    "ttr_R = TransformedTargetRegressor(\n",
    "    Ridge(random_state=123), func=np.log1p, inverse_func=np.expm1\n",
    "    )\n",
    "pipe_linear = make_pipeline(preprocessor, ttr_R)\n",
    "search = RandomizedSearchCV(pipe_linear, param_grid,n_iter=10, n_jobs=-1,return_train_score=True, scoring = mape_scorer)\n",
    "search.fit(X_train, y_train)\n",
    "train_scores = search.cv_results_[\"mean_train_score\"]\n",
    "cv_scores = search.cv_results_[\"mean_test_score\"]\n",
    "print(\"Train scores are:\", train_scores)\n",
    "print(\"Cross Validation scores are:\", cv_scores)\n"
   ]
  },
  {
   "cell_type": "code",
   "execution_count": 18,
   "metadata": {},
   "outputs": [
    {
     "data": {
      "text/plain": [
       "Text(0, 0.5, 'score')"
      ]
     },
     "execution_count": 18,
     "metadata": {},
     "output_type": "execute_result"
    },
    {
     "data": {
      "image/png": "[encoded data removed]",
      "text/plain": [
       "<Figure size 640x480 with 1 Axes>"
      ]
     },
     "metadata": {},
     "output_type": "display_data"
    }
   ],
   "source": [
    "plt.semilogx(param_grid[\"transformedtargetregressor__regressor__alpha\"], train_scores.tolist(), label=\"train\")\n",
    "plt.semilogx(param_grid[\"transformedtargetregressor__regressor__alpha\"], cv_scores.tolist(), label=\"cv\")\n",
    "plt.legend()\n",
    "plt.xlabel(\"alpha\")\n",
    "plt.ylabel(\"score\")"
   ]
  },
  {
   "cell_type": "code",
   "execution_count": 19,
   "metadata": {},
   "outputs": [
    {
     "name": "stdout",
     "output_type": "stream",
     "text": [
      "{'transformedtargetregressor__regressor__alpha': 10.0}\n",
      "the best score in the linear model for that alpha is :  -0.4546982782891037\n"
     ]
    }
   ],
   "source": [
    "best_alpha = search.best_params_\n",
    "print(best_alpha)\n",
    "print(\"the best score in the linear model for that alpha is : \", search.best_score_)"
   ]
  },
  {
   "cell_type": "code",
   "execution_count": 20,
   "metadata": {},
   "outputs": [
    {
     "name": "stderr",
     "output_type": "stream",
     "text": [
      "/var/folders/vw/q9jxxbp12n58z440pzxjmhpc0000gp/T/ipykernel_43506/4158382658.py:26: FutureWarning: Series.__getitem__ treating keys as positions is deprecated. In a future version, integer keys will always be treated as labels (consistent with DataFrame behavior). To access a value by position, use `ser.iloc[pos]`\n",
      "  out_col.append((f\"%0.3f (+/- %0.3f)\" % (mean_scores[i], std_scores[i])))\n"
     ]
    },
    {
     "data": {
      "text/html": [
       "<div>\n",
       "<style scoped>\n",
       "    .dataframe tbody tr th:only-of-type {\n",
       "        vertical-align: middle;\n",
       "    }\n",
       "\n",
       "    .dataframe tbody tr th {\n",
       "        vertical-align: top;\n",
       "    }\n",
       "\n",
       "    .dataframe thead th {\n",
       "        text-align: right;\n",
       "    }\n",
       "</style>\n",
       "<table border=\"1\" class=\"dataframe\">\n",
       "  <thead>\n",
       "    <tr style=\"text-align: right;\">\n",
       "      <th></th>\n",
       "      <th>fit_time</th>\n",
       "      <th>score_time</th>\n",
       "      <th>test_score</th>\n",
       "      <th>train_score</th>\n",
       "    </tr>\n",
       "  </thead>\n",
       "  <tbody>\n",
       "    <tr>\n",
       "      <th>0</th>\n",
       "      <td>0.114800</td>\n",
       "      <td>0.016338</td>\n",
       "      <td>-0.451176</td>\n",
       "      <td>-0.448325</td>\n",
       "    </tr>\n",
       "    <tr>\n",
       "      <th>1</th>\n",
       "      <td>0.092169</td>\n",
       "      <td>0.022804</td>\n",
       "      <td>-0.455060</td>\n",
       "      <td>-0.446179</td>\n",
       "    </tr>\n",
       "    <tr>\n",
       "      <th>2</th>\n",
       "      <td>0.091357</td>\n",
       "      <td>0.018295</td>\n",
       "      <td>-0.457953</td>\n",
       "      <td>-0.448776</td>\n",
       "    </tr>\n",
       "    <tr>\n",
       "      <th>3</th>\n",
       "      <td>0.126589</td>\n",
       "      <td>0.036171</td>\n",
       "      <td>-0.458716</td>\n",
       "      <td>-0.446862</td>\n",
       "    </tr>\n",
       "    <tr>\n",
       "      <th>4</th>\n",
       "      <td>0.087663</td>\n",
       "      <td>0.029315</td>\n",
       "      <td>-0.456889</td>\n",
       "      <td>-0.448644</td>\n",
       "    </tr>\n",
       "  </tbody>\n",
       "</table>\n",
       "</div>"
      ],
      "text/plain": [
       "   fit_time  score_time  test_score  train_score\n",
       "0  0.114800    0.016338   -0.451176    -0.448325\n",
       "1  0.092169    0.022804   -0.455060    -0.446179\n",
       "2  0.091357    0.018295   -0.457953    -0.448776\n",
       "3  0.126589    0.036171   -0.458716    -0.446862\n",
       "4  0.087663    0.029315   -0.456889    -0.448644"
      ]
     },
     "metadata": {},
     "output_type": "display_data"
    },
    {
     "data": {
      "text/html": [
       "<div>\n",
       "<style scoped>\n",
       "    .dataframe tbody tr th:only-of-type {\n",
       "        vertical-align: middle;\n",
       "    }\n",
       "\n",
       "    .dataframe tbody tr th {\n",
       "        vertical-align: top;\n",
       "    }\n",
       "\n",
       "    .dataframe thead th {\n",
       "        text-align: right;\n",
       "    }\n",
       "</style>\n",
       "<table border=\"1\" class=\"dataframe\">\n",
       "  <thead>\n",
       "    <tr style=\"text-align: right;\">\n",
       "      <th></th>\n",
       "      <th>fit_time</th>\n",
       "      <th>score_time</th>\n",
       "      <th>test_score</th>\n",
       "      <th>train_score</th>\n",
       "    </tr>\n",
       "  </thead>\n",
       "  <tbody>\n",
       "    <tr>\n",
       "      <th>Dummy</th>\n",
       "      <td>0.087 (+/- 0.048)</td>\n",
       "      <td>0.048 (+/- 0.047)</td>\n",
       "      <td>-1.041 (+/- 0.057)</td>\n",
       "      <td>-1.040 (+/- 0.039)</td>\n",
       "    </tr>\n",
       "    <tr>\n",
       "      <th>LinearModel</th>\n",
       "      <td>0.152 (+/- 0.031)</td>\n",
       "      <td>0.041 (+/- 0.037)</td>\n",
       "      <td>-0.456 (+/- 0.003)</td>\n",
       "      <td>-0.448 (+/- 0.001)</td>\n",
       "    </tr>\n",
       "  </tbody>\n",
       "</table>\n",
       "</div>"
      ],
      "text/plain": [
       "                      fit_time         score_time          test_score  \\\n",
       "Dummy        0.087 (+/- 0.048)  0.048 (+/- 0.047)  -1.041 (+/- 0.057)   \n",
       "LinearModel  0.152 (+/- 0.031)  0.041 (+/- 0.037)  -0.456 (+/- 0.003)   \n",
       "\n",
       "                    train_score  \n",
       "Dummy        -1.040 (+/- 0.039)  \n",
       "LinearModel  -0.448 (+/- 0.001)  "
      ]
     },
     "execution_count": 20,
     "metadata": {},
     "output_type": "execute_result"
    }
   ],
   "source": [
    "ttr_R = TransformedTargetRegressor(\n",
    "    Ridge(alpha = 1 , random_state=123), func=np.log1p, inverse_func=np.expm1\n",
    "    )\n",
    "pipe_linear = make_pipeline(preprocessor, ttr_R)\n",
    "scores = cross_validate(pipe_linear, X_train, y_train, return_train_score=True, scoring=mape_scorer)\n",
    "results[\"LinearModel\"] = mean_std_cross_val_scores( pipe_linear, X_train, y_train, return_train_score=True, scoring=mape_scorer)\n",
    "display(pd.DataFrame(scores))\n",
    "pd.DataFrame(results).T"
   ]
  },
  {
   "cell_type": "code",
   "execution_count": 21,
   "metadata": {},
   "outputs": [
    {
     "name": "stderr",
     "output_type": "stream",
     "text": [
      "/var/folders/vw/q9jxxbp12n58z440pzxjmhpc0000gp/T/ipykernel_43506/4158382658.py:26: FutureWarning: Series.__getitem__ treating keys as positions is deprecated. In a future version, integer keys will always be treated as labels (consistent with DataFrame behavior). To access a value by position, use `ser.iloc[pos]`\n",
      "  out_col.append((f\"%0.3f (+/- %0.3f)\" % (mean_scores[i], std_scores[i])))\n"
     ]
    },
    {
     "data": {
      "text/html": [
       "<div>\n",
       "<style scoped>\n",
       "    .dataframe tbody tr th:only-of-type {\n",
       "        vertical-align: middle;\n",
       "    }\n",
       "\n",
       "    .dataframe tbody tr th {\n",
       "        vertical-align: top;\n",
       "    }\n",
       "\n",
       "    .dataframe thead th {\n",
       "        text-align: right;\n",
       "    }\n",
       "</style>\n",
       "<table border=\"1\" class=\"dataframe\">\n",
       "  <thead>\n",
       "    <tr style=\"text-align: right;\">\n",
       "      <th></th>\n",
       "      <th>fit_time</th>\n",
       "      <th>score_time</th>\n",
       "      <th>test_score</th>\n",
       "      <th>train_score</th>\n",
       "    </tr>\n",
       "  </thead>\n",
       "  <tbody>\n",
       "    <tr>\n",
       "      <th>0</th>\n",
       "      <td>0.481235</td>\n",
       "      <td>0.023561</td>\n",
       "      <td>-0.621152</td>\n",
       "      <td>-0.009345</td>\n",
       "    </tr>\n",
       "    <tr>\n",
       "      <th>1</th>\n",
       "      <td>0.311065</td>\n",
       "      <td>0.016689</td>\n",
       "      <td>-1.201807</td>\n",
       "      <td>-0.009823</td>\n",
       "    </tr>\n",
       "    <tr>\n",
       "      <th>2</th>\n",
       "      <td>0.296666</td>\n",
       "      <td>0.014716</td>\n",
       "      <td>-1.253411</td>\n",
       "      <td>-0.009585</td>\n",
       "    </tr>\n",
       "    <tr>\n",
       "      <th>3</th>\n",
       "      <td>0.329793</td>\n",
       "      <td>0.019491</td>\n",
       "      <td>-0.952313</td>\n",
       "      <td>-0.009625</td>\n",
       "    </tr>\n",
       "    <tr>\n",
       "      <th>4</th>\n",
       "      <td>0.344481</td>\n",
       "      <td>0.012900</td>\n",
       "      <td>-1.565941</td>\n",
       "      <td>-0.010238</td>\n",
       "    </tr>\n",
       "  </tbody>\n",
       "</table>\n",
       "</div>"
      ],
      "text/plain": [
       "   fit_time  score_time  test_score  train_score\n",
       "0  0.481235    0.023561   -0.621152    -0.009345\n",
       "1  0.311065    0.016689   -1.201807    -0.009823\n",
       "2  0.296666    0.014716   -1.253411    -0.009585\n",
       "3  0.329793    0.019491   -0.952313    -0.009625\n",
       "4  0.344481    0.012900   -1.565941    -0.010238"
      ]
     },
     "metadata": {},
     "output_type": "display_data"
    }
   ],
   "source": [
    "#Decision Tree\n",
    "ttr_DTR = TransformedTargetRegressor(\n",
    "    DecisionTreeRegressor(random_state=123), func=np.log1p, inverse_func=np.expm1\n",
    ")\n",
    "pipe2 = make_pipeline(preprocessor, ttr_DTR)\n",
    "scores = cross_validate(pipe2, X_train, y_train, return_train_score=True, scoring=mape_scorer)\n",
    "results[\"DecisionTreeRegressor\"] = mean_std_cross_val_scores( pipe2, X_train, y_train, return_train_score=True, scoring=mape_scorer)\n",
    "display(pd.DataFrame(scores))\n"
   ]
  },
  {
   "cell_type": "code",
   "execution_count": 22,
   "metadata": {},
   "outputs": [
    {
     "data": {
      "text/html": [
       "<div>\n",
       "<style scoped>\n",
       "    .dataframe tbody tr th:only-of-type {\n",
       "        vertical-align: middle;\n",
       "    }\n",
       "\n",
       "    .dataframe tbody tr th {\n",
       "        vertical-align: top;\n",
       "    }\n",
       "\n",
       "    .dataframe thead th {\n",
       "        text-align: right;\n",
       "    }\n",
       "</style>\n",
       "<table border=\"1\" class=\"dataframe\">\n",
       "  <thead>\n",
       "    <tr style=\"text-align: right;\">\n",
       "      <th></th>\n",
       "      <th>fit_time</th>\n",
       "      <th>score_time</th>\n",
       "      <th>test_score</th>\n",
       "      <th>train_score</th>\n",
       "    </tr>\n",
       "  </thead>\n",
       "  <tbody>\n",
       "    <tr>\n",
       "      <th>Dummy</th>\n",
       "      <td>0.087 (+/- 0.048)</td>\n",
       "      <td>0.048 (+/- 0.047)</td>\n",
       "      <td>-1.041 (+/- 0.057)</td>\n",
       "      <td>-1.040 (+/- 0.039)</td>\n",
       "    </tr>\n",
       "    <tr>\n",
       "      <th>LinearModel</th>\n",
       "      <td>0.152 (+/- 0.031)</td>\n",
       "      <td>0.041 (+/- 0.037)</td>\n",
       "      <td>-0.456 (+/- 0.003)</td>\n",
       "      <td>-0.448 (+/- 0.001)</td>\n",
       "    </tr>\n",
       "    <tr>\n",
       "      <th>DecisionTreeRegressor</th>\n",
       "      <td>0.325 (+/- 0.040)</td>\n",
       "      <td>0.017 (+/- 0.002)</td>\n",
       "      <td>-1.119 (+/- 0.354)</td>\n",
       "      <td>-0.010 (+/- 0.000)</td>\n",
       "    </tr>\n",
       "  </tbody>\n",
       "</table>\n",
       "</div>"
      ],
      "text/plain": [
       "                                fit_time         score_time  \\\n",
       "Dummy                  0.087 (+/- 0.048)  0.048 (+/- 0.047)   \n",
       "LinearModel            0.152 (+/- 0.031)  0.041 (+/- 0.037)   \n",
       "DecisionTreeRegressor  0.325 (+/- 0.040)  0.017 (+/- 0.002)   \n",
       "\n",
       "                               test_score         train_score  \n",
       "Dummy                  -1.041 (+/- 0.057)  -1.040 (+/- 0.039)  \n",
       "LinearModel            -0.456 (+/- 0.003)  -0.448 (+/- 0.001)  \n",
       "DecisionTreeRegressor  -1.119 (+/- 0.354)  -0.010 (+/- 0.000)  "
      ]
     },
     "execution_count": 22,
     "metadata": {},
     "output_type": "execute_result"
    }
   ],
   "source": [
    "pd.DataFrame(results).T"
   ]
  },
  {
   "cell_type": "code",
   "execution_count": 23,
   "metadata": {},
   "outputs": [
    {
     "name": "stderr",
     "output_type": "stream",
     "text": [
      "/var/folders/vw/q9jxxbp12n58z440pzxjmhpc0000gp/T/ipykernel_43506/4158382658.py:26: FutureWarning: Series.__getitem__ treating keys as positions is deprecated. In a future version, integer keys will always be treated as labels (consistent with DataFrame behavior). To access a value by position, use `ser.iloc[pos]`\n",
      "  out_col.append((f\"%0.3f (+/- %0.3f)\" % (mean_scores[i], std_scores[i])))\n"
     ]
    },
    {
     "data": {
      "text/html": [
       "<div>\n",
       "<style scoped>\n",
       "    .dataframe tbody tr th:only-of-type {\n",
       "        vertical-align: middle;\n",
       "    }\n",
       "\n",
       "    .dataframe tbody tr th {\n",
       "        vertical-align: top;\n",
       "    }\n",
       "\n",
       "    .dataframe thead th {\n",
       "        text-align: right;\n",
       "    }\n",
       "</style>\n",
       "<table border=\"1\" class=\"dataframe\">\n",
       "  <thead>\n",
       "    <tr style=\"text-align: right;\">\n",
       "      <th></th>\n",
       "      <th>fit_time</th>\n",
       "      <th>score_time</th>\n",
       "      <th>test_score</th>\n",
       "      <th>train_score</th>\n",
       "    </tr>\n",
       "  </thead>\n",
       "  <tbody>\n",
       "    <tr>\n",
       "      <th>Dummy</th>\n",
       "      <td>0.087 (+/- 0.048)</td>\n",
       "      <td>0.048 (+/- 0.047)</td>\n",
       "      <td>-1.041 (+/- 0.057)</td>\n",
       "      <td>-1.040 (+/- 0.039)</td>\n",
       "    </tr>\n",
       "    <tr>\n",
       "      <th>LinearModel</th>\n",
       "      <td>0.152 (+/- 0.031)</td>\n",
       "      <td>0.041 (+/- 0.037)</td>\n",
       "      <td>-0.456 (+/- 0.003)</td>\n",
       "      <td>-0.448 (+/- 0.001)</td>\n",
       "    </tr>\n",
       "    <tr>\n",
       "      <th>DecisionTreeRegressor</th>\n",
       "      <td>0.325 (+/- 0.040)</td>\n",
       "      <td>0.017 (+/- 0.002)</td>\n",
       "      <td>-1.119 (+/- 0.354)</td>\n",
       "      <td>-0.010 (+/- 0.000)</td>\n",
       "    </tr>\n",
       "    <tr>\n",
       "      <th>Random forests</th>\n",
       "      <td>14.877 (+/- 1.413)</td>\n",
       "      <td>0.208 (+/- 0.184)</td>\n",
       "      <td>-0.415 (+/- 0.023)</td>\n",
       "      <td>-0.145 (+/- 0.001)</td>\n",
       "    </tr>\n",
       "  </tbody>\n",
       "</table>\n",
       "</div>"
      ],
      "text/plain": [
       "                                 fit_time         score_time  \\\n",
       "Dummy                   0.087 (+/- 0.048)  0.048 (+/- 0.047)   \n",
       "LinearModel             0.152 (+/- 0.031)  0.041 (+/- 0.037)   \n",
       "DecisionTreeRegressor   0.325 (+/- 0.040)  0.017 (+/- 0.002)   \n",
       "Random forests         14.877 (+/- 1.413)  0.208 (+/- 0.184)   \n",
       "\n",
       "                               test_score         train_score  \n",
       "Dummy                  -1.041 (+/- 0.057)  -1.040 (+/- 0.039)  \n",
       "LinearModel            -0.456 (+/- 0.003)  -0.448 (+/- 0.001)  \n",
       "DecisionTreeRegressor  -1.119 (+/- 0.354)  -0.010 (+/- 0.000)  \n",
       "Random forests         -0.415 (+/- 0.023)  -0.145 (+/- 0.001)  "
      ]
     },
     "execution_count": 23,
     "metadata": {},
     "output_type": "execute_result"
    }
   ],
   "source": [
    "ttr_RFR = TransformedTargetRegressor(\n",
    "    RandomForestRegressor(n_jobs=-1,random_state=123), func=np.log1p, inverse_func=np.expm1\n",
    ")\n",
    "pipe_rf = make_pipeline(\n",
    "    preprocessor,ttr_RFR\n",
    ")\n",
    "\n",
    "results[\"Random forests\"] = mean_std_cross_val_scores(\n",
    "    pipe_rf, X_train, y_train, return_train_score=True, scoring=mape_scorer\n",
    ")\n",
    "\n",
    "pd.DataFrame(results).T\n"
   ]
  },
  {
   "cell_type": "code",
   "execution_count": 24,
   "metadata": {},
   "outputs": [
    {
     "name": "stderr",
     "output_type": "stream",
     "text": [
      "/var/folders/vw/q9jxxbp12n58z440pzxjmhpc0000gp/T/ipykernel_43506/4158382658.py:26: FutureWarning: Series.__getitem__ treating keys as positions is deprecated. In a future version, integer keys will always be treated as labels (consistent with DataFrame behavior). To access a value by position, use `ser.iloc[pos]`\n",
      "  out_col.append((f\"%0.3f (+/- %0.3f)\" % (mean_scores[i], std_scores[i])))\n"
     ]
    },
    {
     "data": {
      "text/html": [
       "<div>\n",
       "<style scoped>\n",
       "    .dataframe tbody tr th:only-of-type {\n",
       "        vertical-align: middle;\n",
       "    }\n",
       "\n",
       "    .dataframe tbody tr th {\n",
       "        vertical-align: top;\n",
       "    }\n",
       "\n",
       "    .dataframe thead th {\n",
       "        text-align: right;\n",
       "    }\n",
       "</style>\n",
       "<table border=\"1\" class=\"dataframe\">\n",
       "  <thead>\n",
       "    <tr style=\"text-align: right;\">\n",
       "      <th></th>\n",
       "      <th>fit_time</th>\n",
       "      <th>score_time</th>\n",
       "      <th>test_score</th>\n",
       "      <th>train_score</th>\n",
       "    </tr>\n",
       "  </thead>\n",
       "  <tbody>\n",
       "    <tr>\n",
       "      <th>Dummy</th>\n",
       "      <td>0.087 (+/- 0.048)</td>\n",
       "      <td>0.048 (+/- 0.047)</td>\n",
       "      <td>-1.041 (+/- 0.057)</td>\n",
       "      <td>-1.040 (+/- 0.039)</td>\n",
       "    </tr>\n",
       "    <tr>\n",
       "      <th>LinearModel</th>\n",
       "      <td>0.152 (+/- 0.031)</td>\n",
       "      <td>0.041 (+/- 0.037)</td>\n",
       "      <td>-0.456 (+/- 0.003)</td>\n",
       "      <td>-0.448 (+/- 0.001)</td>\n",
       "    </tr>\n",
       "    <tr>\n",
       "      <th>DecisionTreeRegressor</th>\n",
       "      <td>0.325 (+/- 0.040)</td>\n",
       "      <td>0.017 (+/- 0.002)</td>\n",
       "      <td>-1.119 (+/- 0.354)</td>\n",
       "      <td>-0.010 (+/- 0.000)</td>\n",
       "    </tr>\n",
       "    <tr>\n",
       "      <th>Random forests</th>\n",
       "      <td>14.877 (+/- 1.413)</td>\n",
       "      <td>0.208 (+/- 0.184)</td>\n",
       "      <td>-0.415 (+/- 0.023)</td>\n",
       "      <td>-0.145 (+/- 0.001)</td>\n",
       "    </tr>\n",
       "    <tr>\n",
       "      <th>LGBM Regressor</th>\n",
       "      <td>0.684 (+/- 0.579)</td>\n",
       "      <td>0.056 (+/- 0.002)</td>\n",
       "      <td>-0.395 (+/- 0.007)</td>\n",
       "      <td>-0.361 (+/- 0.001)</td>\n",
       "    </tr>\n",
       "  </tbody>\n",
       "</table>\n",
       "</div>"
      ],
      "text/plain": [
       "                                 fit_time         score_time  \\\n",
       "Dummy                   0.087 (+/- 0.048)  0.048 (+/- 0.047)   \n",
       "LinearModel             0.152 (+/- 0.031)  0.041 (+/- 0.037)   \n",
       "DecisionTreeRegressor   0.325 (+/- 0.040)  0.017 (+/- 0.002)   \n",
       "Random forests         14.877 (+/- 1.413)  0.208 (+/- 0.184)   \n",
       "LGBM Regressor          0.684 (+/- 0.579)  0.056 (+/- 0.002)   \n",
       "\n",
       "                               test_score         train_score  \n",
       "Dummy                  -1.041 (+/- 0.057)  -1.040 (+/- 0.039)  \n",
       "LinearModel            -0.456 (+/- 0.003)  -0.448 (+/- 0.001)  \n",
       "DecisionTreeRegressor  -1.119 (+/- 0.354)  -0.010 (+/- 0.000)  \n",
       "Random forests         -0.415 (+/- 0.023)  -0.145 (+/- 0.001)  \n",
       "LGBM Regressor         -0.395 (+/- 0.007)  -0.361 (+/- 0.001)  "
      ]
     },
     "execution_count": 24,
     "metadata": {},
     "output_type": "execute_result"
    }
   ],
   "source": [
    "ttr_LGBM = TransformedTargetRegressor(\n",
    "    LGBMRegressor(random_state=123, verbose=-1), func=np.log1p, inverse_func=np.expm1\n",
    ")\n",
    "pipe_lgbm = make_pipeline(\n",
    "    preprocessor, ttr_LGBM\n",
    ")\n",
    "\n",
    "\n",
    "results[\"LGBM Regressor\"] = mean_std_cross_val_scores(\n",
    "    pipe_lgbm, X_train, y_train, return_train_score=True, scoring=mape_scorer\n",
    ")\n",
    "\n",
    "pd.DataFrame(results).T"
   ]
  },
  {
   "cell_type": "code",
   "execution_count": 25,
   "metadata": {},
   "outputs": [],
   "source": [
    "class MyTransformedTargetRegressor(TransformedTargetRegressor):\n",
    "    @property\n",
    "    def feature_importances_(self):\n",
    "        return self.regressor_.feature_importances_\n",
    "\n",
    "    @property\n",
    "    def coef_(self):\n",
    "        return self.regressor_.coef_"
   ]
  },
  {
   "cell_type": "code",
   "execution_count": 26,
   "metadata": {},
   "outputs": [
    {
     "name": "stderr",
     "output_type": "stream",
     "text": [
      "/var/folders/vw/q9jxxbp12n58z440pzxjmhpc0000gp/T/ipykernel_43506/4158382658.py:26: FutureWarning: Series.__getitem__ treating keys as positions is deprecated. In a future version, integer keys will always be treated as labels (consistent with DataFrame behavior). To access a value by position, use `ser.iloc[pos]`\n",
      "  out_col.append((f\"%0.3f (+/- %0.3f)\" % (mean_scores[i], std_scores[i])))\n"
     ]
    },
    {
     "data": {
      "text/html": [
       "<div>\n",
       "<style scoped>\n",
       "    .dataframe tbody tr th:only-of-type {\n",
       "        vertical-align: middle;\n",
       "    }\n",
       "\n",
       "    .dataframe tbody tr th {\n",
       "        vertical-align: top;\n",
       "    }\n",
       "\n",
       "    .dataframe thead th {\n",
       "        text-align: right;\n",
       "    }\n",
       "</style>\n",
       "<table border=\"1\" class=\"dataframe\">\n",
       "  <thead>\n",
       "    <tr style=\"text-align: right;\">\n",
       "      <th></th>\n",
       "      <th>fit_time</th>\n",
       "      <th>score_time</th>\n",
       "      <th>test_score</th>\n",
       "      <th>train_score</th>\n",
       "    </tr>\n",
       "  </thead>\n",
       "  <tbody>\n",
       "    <tr>\n",
       "      <th>Dummy</th>\n",
       "      <td>0.087 (+/- 0.048)</td>\n",
       "      <td>0.048 (+/- 0.047)</td>\n",
       "      <td>-1.041 (+/- 0.057)</td>\n",
       "      <td>-1.040 (+/- 0.039)</td>\n",
       "    </tr>\n",
       "    <tr>\n",
       "      <th>LinearModel</th>\n",
       "      <td>0.152 (+/- 0.031)</td>\n",
       "      <td>0.041 (+/- 0.037)</td>\n",
       "      <td>-0.456 (+/- 0.003)</td>\n",
       "      <td>-0.448 (+/- 0.001)</td>\n",
       "    </tr>\n",
       "    <tr>\n",
       "      <th>DecisionTreeRegressor</th>\n",
       "      <td>0.325 (+/- 0.040)</td>\n",
       "      <td>0.017 (+/- 0.002)</td>\n",
       "      <td>-1.119 (+/- 0.354)</td>\n",
       "      <td>-0.010 (+/- 0.000)</td>\n",
       "    </tr>\n",
       "    <tr>\n",
       "      <th>Random forests</th>\n",
       "      <td>14.877 (+/- 1.413)</td>\n",
       "      <td>0.208 (+/- 0.184)</td>\n",
       "      <td>-0.415 (+/- 0.023)</td>\n",
       "      <td>-0.145 (+/- 0.001)</td>\n",
       "    </tr>\n",
       "    <tr>\n",
       "      <th>LGBM Regressor</th>\n",
       "      <td>0.684 (+/- 0.579)</td>\n",
       "      <td>0.056 (+/- 0.002)</td>\n",
       "      <td>-0.395 (+/- 0.007)</td>\n",
       "      <td>-0.361 (+/- 0.001)</td>\n",
       "    </tr>\n",
       "    <tr>\n",
       "      <th>LGBM with RFECV</th>\n",
       "      <td>66.147 (+/- 6.056)</td>\n",
       "      <td>0.042 (+/- 0.006)</td>\n",
       "      <td>-0.981 (+/- 0.235)</td>\n",
       "      <td>-0.810 (+/- 0.106)</td>\n",
       "    </tr>\n",
       "  </tbody>\n",
       "</table>\n",
       "</div>"
      ],
      "text/plain": [
       "                                 fit_time         score_time  \\\n",
       "Dummy                   0.087 (+/- 0.048)  0.048 (+/- 0.047)   \n",
       "LinearModel             0.152 (+/- 0.031)  0.041 (+/- 0.037)   \n",
       "DecisionTreeRegressor   0.325 (+/- 0.040)  0.017 (+/- 0.002)   \n",
       "Random forests         14.877 (+/- 1.413)  0.208 (+/- 0.184)   \n",
       "LGBM Regressor          0.684 (+/- 0.579)  0.056 (+/- 0.002)   \n",
       "LGBM with RFECV        66.147 (+/- 6.056)  0.042 (+/- 0.006)   \n",
       "\n",
       "                               test_score         train_score  \n",
       "Dummy                  -1.041 (+/- 0.057)  -1.040 (+/- 0.039)  \n",
       "LinearModel            -0.456 (+/- 0.003)  -0.448 (+/- 0.001)  \n",
       "DecisionTreeRegressor  -1.119 (+/- 0.354)  -0.010 (+/- 0.000)  \n",
       "Random forests         -0.415 (+/- 0.023)  -0.145 (+/- 0.001)  \n",
       "LGBM Regressor         -0.395 (+/- 0.007)  -0.361 (+/- 0.001)  \n",
       "LGBM with RFECV        -0.981 (+/- 0.235)  -0.810 (+/- 0.106)  "
      ]
     },
     "execution_count": 26,
     "metadata": {},
     "output_type": "execute_result"
    }
   ],
   "source": [
    "Myttr_R = MyTransformedTargetRegressor(\n",
    "    Ridge(random_state=123), func=np.log1p, inverse_func=np.expm1\n",
    ")\n",
    "\n",
    "rfe_cv = RFECV(Myttr_R, cv=10)\n",
    "\n",
    "pipe_rfecv = make_pipeline(\n",
    "    preprocessor,rfe_cv,LGBMRegressor(random_state=123, verbose=-1)\n",
    ")\n",
    "\n",
    "results[\"LGBM with RFECV\"] = mean_std_cross_val_scores(\n",
    "    pipe_rfecv, X_train, y_train, return_train_score=True, scoring=mape_scorer\n",
    ")\n",
    "\n",
    "pd.DataFrame(results).T"
   ]
  },
  {
   "cell_type": "code",
   "execution_count": 27,
   "metadata": {},
   "outputs": [
    {
     "name": "stderr",
     "output_type": "stream",
     "text": [
      "/var/folders/vw/q9jxxbp12n58z440pzxjmhpc0000gp/T/ipykernel_43506/4158382658.py:26: FutureWarning: Series.__getitem__ treating keys as positions is deprecated. In a future version, integer keys will always be treated as labels (consistent with DataFrame behavior). To access a value by position, use `ser.iloc[pos]`\n",
      "  out_col.append((f\"%0.3f (+/- %0.3f)\" % (mean_scores[i], std_scores[i])))\n"
     ]
    },
    {
     "data": {
      "text/html": [
       "<div>\n",
       "<style scoped>\n",
       "    .dataframe tbody tr th:only-of-type {\n",
       "        vertical-align: middle;\n",
       "    }\n",
       "\n",
       "    .dataframe tbody tr th {\n",
       "        vertical-align: top;\n",
       "    }\n",
       "\n",
       "    .dataframe thead th {\n",
       "        text-align: right;\n",
       "    }\n",
       "</style>\n",
       "<table border=\"1\" class=\"dataframe\">\n",
       "  <thead>\n",
       "    <tr style=\"text-align: right;\">\n",
       "      <th></th>\n",
       "      <th>fit_time</th>\n",
       "      <th>score_time</th>\n",
       "      <th>test_score</th>\n",
       "      <th>train_score</th>\n",
       "    </tr>\n",
       "  </thead>\n",
       "  <tbody>\n",
       "    <tr>\n",
       "      <th>Dummy</th>\n",
       "      <td>0.087 (+/- 0.048)</td>\n",
       "      <td>0.048 (+/- 0.047)</td>\n",
       "      <td>-1.041 (+/- 0.057)</td>\n",
       "      <td>-1.040 (+/- 0.039)</td>\n",
       "    </tr>\n",
       "    <tr>\n",
       "      <th>LinearModel</th>\n",
       "      <td>0.152 (+/- 0.031)</td>\n",
       "      <td>0.041 (+/- 0.037)</td>\n",
       "      <td>-0.456 (+/- 0.003)</td>\n",
       "      <td>-0.448 (+/- 0.001)</td>\n",
       "    </tr>\n",
       "    <tr>\n",
       "      <th>DecisionTreeRegressor</th>\n",
       "      <td>0.325 (+/- 0.040)</td>\n",
       "      <td>0.017 (+/- 0.002)</td>\n",
       "      <td>-1.119 (+/- 0.354)</td>\n",
       "      <td>-0.010 (+/- 0.000)</td>\n",
       "    </tr>\n",
       "    <tr>\n",
       "      <th>Random forests</th>\n",
       "      <td>14.877 (+/- 1.413)</td>\n",
       "      <td>0.208 (+/- 0.184)</td>\n",
       "      <td>-0.415 (+/- 0.023)</td>\n",
       "      <td>-0.145 (+/- 0.001)</td>\n",
       "    </tr>\n",
       "    <tr>\n",
       "      <th>LGBM Regressor</th>\n",
       "      <td>0.684 (+/- 0.579)</td>\n",
       "      <td>0.056 (+/- 0.002)</td>\n",
       "      <td>-0.395 (+/- 0.007)</td>\n",
       "      <td>-0.361 (+/- 0.001)</td>\n",
       "    </tr>\n",
       "    <tr>\n",
       "      <th>LGBM with RFECV</th>\n",
       "      <td>66.147 (+/- 6.056)</td>\n",
       "      <td>0.042 (+/- 0.006)</td>\n",
       "      <td>-0.981 (+/- 0.235)</td>\n",
       "      <td>-0.810 (+/- 0.106)</td>\n",
       "    </tr>\n",
       "    <tr>\n",
       "      <th>LGBM with SelectFromModel</th>\n",
       "      <td>0.312 (+/- 0.167)</td>\n",
       "      <td>0.053 (+/- 0.008)</td>\n",
       "      <td>-0.842 (+/- 0.094)</td>\n",
       "      <td>-0.830 (+/- 0.070)</td>\n",
       "    </tr>\n",
       "  </tbody>\n",
       "</table>\n",
       "</div>"
      ],
      "text/plain": [
       "                                     fit_time         score_time  \\\n",
       "Dummy                       0.087 (+/- 0.048)  0.048 (+/- 0.047)   \n",
       "LinearModel                 0.152 (+/- 0.031)  0.041 (+/- 0.037)   \n",
       "DecisionTreeRegressor       0.325 (+/- 0.040)  0.017 (+/- 0.002)   \n",
       "Random forests             14.877 (+/- 1.413)  0.208 (+/- 0.184)   \n",
       "LGBM Regressor              0.684 (+/- 0.579)  0.056 (+/- 0.002)   \n",
       "LGBM with RFECV            66.147 (+/- 6.056)  0.042 (+/- 0.006)   \n",
       "LGBM with SelectFromModel   0.312 (+/- 0.167)  0.053 (+/- 0.008)   \n",
       "\n",
       "                                   test_score         train_score  \n",
       "Dummy                      -1.041 (+/- 0.057)  -1.040 (+/- 0.039)  \n",
       "LinearModel                -0.456 (+/- 0.003)  -0.448 (+/- 0.001)  \n",
       "DecisionTreeRegressor      -1.119 (+/- 0.354)  -0.010 (+/- 0.000)  \n",
       "Random forests             -0.415 (+/- 0.023)  -0.145 (+/- 0.001)  \n",
       "LGBM Regressor             -0.395 (+/- 0.007)  -0.361 (+/- 0.001)  \n",
       "LGBM with RFECV            -0.981 (+/- 0.235)  -0.810 (+/- 0.106)  \n",
       "LGBM with SelectFromModel  -0.842 (+/- 0.094)  -0.830 (+/- 0.070)  "
      ]
     },
     "execution_count": 27,
     "metadata": {},
     "output_type": "execute_result"
    }
   ],
   "source": [
    "select_CV = SelectFromModel(\n",
    "    Myttr_R, threshold=\"median\"\n",
    ")\n",
    "\n",
    "pipe_select_CV = make_pipeline(\n",
    "    preprocessor,select_CV,LGBMRegressor(random_state=123, verbose=-1)\n",
    ")\n",
    "\n",
    "results[\"LGBM with SelectFromModel\"] = mean_std_cross_val_scores(\n",
    "    pipe_select_CV, X_train, y_train, return_train_score=True, scoring=mape_scorer\n",
    ")\n",
    "\n",
    "pd.DataFrame(results).T"
   ]
  },
  {
   "cell_type": "markdown",
   "metadata": {},
   "source": [
    "Based on the results above The ```LGBMRegressor``` is the best performing model on this dataset."
   ]
  },
  {
   "cell_type": "markdown",
   "metadata": {},
   "source": [
    "# Hyperparameter Optimization"
   ]
  },
  {
   "cell_type": "code",
   "execution_count": 28,
   "metadata": {},
   "outputs": [
    {
     "name": "stdout",
     "output_type": "stream",
     "text": [
      "TransformedTargetRegressor(func=<ufunc 'log1p'>, inverse_func=<ufunc 'expm1'>,\n",
      "                           regressor=LGBMRegressor(random_state=123,\n",
      "                                                   verbose=-1))\n"
     ]
    }
   ],
   "source": [
    "#Making the model\n",
    "ttr_lgbm = TransformedTargetRegressor(\n",
    "    LGBMRegressor(random_state=123, verbose=-1), func=np.log1p, inverse_func=np.expm1\n",
    ")\n",
    "#making the pipeline\n",
    "pipe_lgbm = make_pipeline(\n",
    "    preprocessor, ttr_LGBM\n",
    ")\n",
    "print(ttr_lgbm)"
   ]
  },
  {
   "cell_type": "code",
   "execution_count": 29,
   "metadata": {},
   "outputs": [
    {
     "name": "stdout",
     "output_type": "stream",
     "text": [
      "Train scores are: [-0.36696112 -0.42741297 -0.35498078 -0.3089302  -0.37306802 -0.40899422\n",
      " -0.40372292 -0.29192807 -0.41144158 -0.36389863]\n",
      "Cross Validation scores are: [-0.39787607 -0.43642388 -0.39558232 -0.40294763 -0.39777008 -0.41402315\n",
      " -0.41055547 -0.40619308 -0.41575879 -0.39724449]\n"
     ]
    }
   ],
   "source": [
    "trees = [10, 50, 100, 250, 500, 750, 1000, 1250, 1750, 2000]\n",
    "max_depth = [x for x in range(1,11)]\n",
    "\n",
    "param_grid_lgbm = {'transformedtargetregressor__regressor__n_estimators': trees,\n",
    "              'transformedtargetregressor__regressor__max_depth': max_depth,\n",
    "              'transformedtargetregressor__regressor__num_leaves': [2**x for x in max_depth]}\n",
    "\n",
    "search_lgbm = RandomizedSearchCV(pipe_lgbm, \n",
    "                                 param_grid_lgbm,\n",
    "                                 n_iter=10, \n",
    "                                 n_jobs=-1,\n",
    "                                 return_train_score=True, \n",
    "                                 scoring = mape_scorer)\n",
    "search_lgbm.fit(X_train, y_train)\n",
    "train_scores = search_lgbm.cv_results_[\"mean_train_score\"]\n",
    "cv_scores = search_lgbm.cv_results_[\"mean_test_score\"]\n",
    "print(\"Train scores are:\", train_scores)\n",
    "print(\"Cross Validation scores are:\", cv_scores)"
   ]
  },
  {
   "cell_type": "code",
   "execution_count": 30,
   "metadata": {},
   "outputs": [
    {
     "data": {
      "image/png": "[encoded data removed]",
      "text/plain": [
       "<Figure size 640x480 with 1 Axes>"
      ]
     },
     "metadata": {},
     "output_type": "display_data"
    },
    {
     "data": {
      "image/png": "[encoded data removed]",
      "text/plain": [
       "<Figure size 640x480 with 1 Axes>"
      ]
     },
     "metadata": {},
     "output_type": "display_data"
    },
    {
     "data": {
      "image/png": "[encoded data removed]",
      "text/plain": [
       "<Figure size 640x480 with 1 Axes>"
      ]
     },
     "metadata": {},
     "output_type": "display_data"
    }
   ],
   "source": [
    "hyperparameters = ['n_estimators', 'max_depth', 'num_leaves']\n",
    "\n",
    "# Create separate rows for each hyperparameter\n",
    "for idx, x in enumerate(hyperparameters, start=1):\n",
    "    hyp = \"transformedtargetregressor__regressor__\" + x\n",
    "    \n",
    "    plt.figure(idx)  # Create a new figure for each hyperparameter\n",
    "    \n",
    "    plt.semilogx(param_grid_lgbm[hyp], train_scores.tolist(), label=\"train\")\n",
    "    plt.semilogx(param_grid_lgbm[hyp], cv_scores.tolist(), label=\"cv\")\n",
    "    plt.legend()\n",
    "    plt.xlabel(x)\n",
    "    plt.ylabel(\"score\")\n",
    "\n",
    "# Show all the plots\n",
    "plt.show()"
   ]
  },
  {
   "cell_type": "code",
   "execution_count": 31,
   "metadata": {},
   "outputs": [
    {
     "name": "stdout",
     "output_type": "stream",
     "text": [
      "{'transformedtargetregressor__regressor__num_leaves': 8, 'transformedtargetregressor__regressor__n_estimators': 750, 'transformedtargetregressor__regressor__max_depth': 8}\n"
     ]
    }
   ],
   "source": [
    "best_vals_lgbm = search_lgbm.best_params_\n",
    "best_num_leaves_lgbm = best_vals_lgbm['transformedtargetregressor__regressor__num_leaves']\n",
    "best_n_estimators_lgbm = best_vals_lgbm['transformedtargetregressor__regressor__n_estimators']\n",
    "best_max_depth_lgbm = best_vals_lgbm['transformedtargetregressor__regressor__max_depth']\n",
    "print(best_vals_lgbm)"
   ]
  },
  {
   "cell_type": "code",
   "execution_count": 32,
   "metadata": {},
   "outputs": [],
   "source": [
    "final_results = {}\n",
    "final_numerical_feats = ['minimum_nights', 'number_of_reviews', 'calculated_host_listings_count', 'availability_365']\n",
    "final_categorical_feats = ['neighbourhood_group', 'room_type', \"neighbourhood\"]\n",
    "final_drop_feats = [\"id\", \"host_name\",\"latitude\", \"longitude\", \"reviews_per_month\", \"number_of_reviews_ltm\", \"license\"]"
   ]
  },
  {
   "cell_type": "code",
   "execution_count": 33,
   "metadata": {},
   "outputs": [],
   "source": [
    "final_preprocessor = make_column_transformer(\n",
    "    (OneHotEncoder(sparse_output = False, handle_unknown=\"ignore\"), final_categorical_feats),\n",
    "    (StandardScaler(), final_numerical_feats),\n",
    "    (\"drop\", final_drop_feats)\n",
    ")"
   ]
  },
  {
   "cell_type": "code",
   "execution_count": 34,
   "metadata": {},
   "outputs": [
    {
     "name": "stderr",
     "output_type": "stream",
     "text": [
      "/var/folders/vw/q9jxxbp12n58z440pzxjmhpc0000gp/T/ipykernel_43506/4158382658.py:26: FutureWarning: Series.__getitem__ treating keys as positions is deprecated. In a future version, integer keys will always be treated as labels (consistent with DataFrame behavior). To access a value by position, use `ser.iloc[pos]`\n",
      "  out_col.append((f\"%0.3f (+/- %0.3f)\" % (mean_scores[i], std_scores[i])))\n"
     ]
    },
    {
     "data": {
      "text/html": [
       "<div>\n",
       "<style scoped>\n",
       "    .dataframe tbody tr th:only-of-type {\n",
       "        vertical-align: middle;\n",
       "    }\n",
       "\n",
       "    .dataframe tbody tr th {\n",
       "        vertical-align: top;\n",
       "    }\n",
       "\n",
       "    .dataframe thead th {\n",
       "        text-align: right;\n",
       "    }\n",
       "</style>\n",
       "<table border=\"1\" class=\"dataframe\">\n",
       "  <thead>\n",
       "    <tr style=\"text-align: right;\">\n",
       "      <th></th>\n",
       "      <th>fit_time</th>\n",
       "      <th>score_time</th>\n",
       "      <th>test_score</th>\n",
       "      <th>train_score</th>\n",
       "    </tr>\n",
       "  </thead>\n",
       "  <tbody>\n",
       "    <tr>\n",
       "      <th>LGBM Regressor on Train/Cross Validation</th>\n",
       "      <td>0.599 (+/- 0.166)</td>\n",
       "      <td>0.158 (+/- 0.062)</td>\n",
       "      <td>-0.396 (+/- 0.008)</td>\n",
       "      <td>-0.355 (+/- 0.002)</td>\n",
       "    </tr>\n",
       "  </tbody>\n",
       "</table>\n",
       "</div>"
      ],
      "text/plain": [
       "                                                   fit_time  \\\n",
       "LGBM Regressor on Train/Cross Validation  0.599 (+/- 0.166)   \n",
       "\n",
       "                                                 score_time  \\\n",
       "LGBM Regressor on Train/Cross Validation  0.158 (+/- 0.062)   \n",
       "\n",
       "                                                  test_score  \\\n",
       "LGBM Regressor on Train/Cross Validation  -0.396 (+/- 0.008)   \n",
       "\n",
       "                                                 train_score  \n",
       "LGBM Regressor on Train/Cross Validation  -0.355 (+/- 0.002)  "
      ]
     },
     "execution_count": 34,
     "metadata": {},
     "output_type": "execute_result"
    }
   ],
   "source": [
    "final_ttr_LGBM = TransformedTargetRegressor(\n",
    "    LGBMRegressor(num_leaves = best_num_leaves_lgbm,\n",
    "                  n_estimators = best_n_estimators_lgbm,\n",
    "                  max_depth = best_max_depth_lgbm,\n",
    "                  random_state=123, \n",
    "                  verbose=-1), \n",
    "    func=np.log1p, inverse_func=np.expm1\n",
    ")\n",
    "final_pipe_lgbm = make_pipeline(\n",
    "    final_preprocessor, final_ttr_LGBM\n",
    ")\n",
    "\n",
    "\n",
    "final_results[\"LGBM Regressor on Train/Cross Validation\"] = mean_std_cross_val_scores(\n",
    "    final_pipe_lgbm, X_train, y_train, return_train_score=True, scoring=mape_scorer\n",
    ")\n",
    "pd.DataFrame(final_results).T"
   ]
  },
  {
   "cell_type": "code",
   "execution_count": 35,
   "metadata": {},
   "outputs": [
    {
     "name": "stdout",
     "output_type": "stream",
     "text": [
      "MAPE : 0.3901946497305129\n"
     ]
    }
   ],
   "source": [
    "final_pipe_lgbm.fit(X_train, y_train)\n",
    "mape_test = mean_absolute_percentage_error(y_test, final_pipe_lgbm.predict(X_test))\n",
    "print(f'MAPE : {mape_test}')"
   ]
  },
  {
   "cell_type": "code",
   "execution_count": 38,
   "metadata": {},
   "outputs": [],
   "source": [
    "with open(\"web_application/price_predictor.joblib\", \"wb\") as f:\n",
    "    joblib.dump(final_pipe_lgbm, f)"
   ]
  },
  {
   "cell_type": "code",
   "execution_count": 43,
   "metadata": {},
   "outputs": [
    {
     "name": "stdout",
     "output_type": "stream",
     "text": [
      "<class 'pandas.core.frame.DataFrame'>\n"
     ]
    },
    {
     "data": {
      "text/plain": [
       "array([163.60924932])"
      ]
     },
     "execution_count": 43,
     "metadata": {},
     "output_type": "execute_result"
    }
   ],
   "source": [
    "print(type(X_test.iloc[[0]]))\n",
    "final_pipe_lgbm.predict(X_test.iloc[[0]])"
   ]
  },
  {
   "cell_type": "code",
   "execution_count": 44,
   "metadata": {},
   "outputs": [
    {
     "name": "stdout",
     "output_type": "stream",
     "text": [
      "<class 'sklearn.pipeline.Pipeline'>\n"
     ]
    }
   ],
   "source": [
    "print(type(final_pipe_lgbm))"
   ]
  },
  {
   "cell_type": "code",
   "execution_count": 49,
   "metadata": {},
   "outputs": [
    {
     "data": {
      "text/plain": [
       "array(['Clinton Hill', \"Hell's Kitchen\", 'Chelsea', 'Washington Heights',\n",
       "       'Murray Hill', 'Williamsburg', 'Sunset Park', 'Astoria',\n",
       "       'Financial District', 'Sunnyside', 'Midtown', 'East Elmhurst',\n",
       "       'Upper West Side', 'West Village', 'Kensington', 'Bushwick',\n",
       "       'Red Hook', 'Tribeca', 'Woodside', 'Roosevelt Island',\n",
       "       'Concourse Village', 'Harlem', 'Flatbush', 'University Heights',\n",
       "       'Flushing', 'Greenpoint', 'Ridgewood', 'Cypress Hills',\n",
       "       \"Prince's Bay\", 'Port Richmond', 'East Village', 'Clason Point',\n",
       "       'Bedford-Stuyvesant', 'Gravesend', 'Long Island City', 'Gramercy',\n",
       "       'East Flatbush', 'East Harlem', 'St. George', 'Boerum Hill',\n",
       "       'South Ozone Park', 'Park Slope', 'Crown Heights', 'Wakefield',\n",
       "       'Forest Hills', 'Springfield Gardens', 'North Riverdale',\n",
       "       'Belmont', 'Corona', 'Tremont', 'Elmhurst', 'Queens Village',\n",
       "       'Prospect-Lefferts Gardens', 'Fort Greene', 'Allerton',\n",
       "       'Upper East Side', 'Richmond Hill', 'Kips Bay',\n",
       "       'Morningside Heights', 'Flatlands', 'St. Albans', 'Bay Ridge',\n",
       "       'SoHo', 'Lower East Side', 'West Brighton', 'Parkchester',\n",
       "       'Brownsville', 'Ozone Park', 'Jackson Heights', 'Kew Gardens',\n",
       "       'Prospect Heights', 'Jamaica', 'Arrochar', 'Kew Gardens Hills',\n",
       "       'Laurelton', 'Morris Park', 'Rosedale', 'Arverne', 'Woodhaven',\n",
       "       'Norwood', 'Rosebank', 'Tompkinsville', 'East New York',\n",
       "       'Far Rockaway', 'Edenwald', 'Baychester', 'Canarsie',\n",
       "       'Williamsbridge', 'Kingsbridge', 'Rego Park', 'Sheepshead Bay',\n",
       "       'Ditmars Steinway', 'Melrose', 'DUMBO', 'Theater District',\n",
       "       'Civic Center', 'Chinatown', 'Flatiron District', 'Nolita',\n",
       "       'Bath Beach', 'East Morrisania', 'Little Italy', 'Fresh Meadows',\n",
       "       'Midwood', 'Glendale', 'West Farms', 'Carroll Gardens',\n",
       "       'Mount Hope', 'Gowanus', 'Windsor Terrace', 'Downtown Brooklyn',\n",
       "       'Maspeth', 'South Slope', \"Bull's Head\", 'Navy Yard',\n",
       "       'Stuyvesant Town', 'Borough Park', 'Dyker Heights',\n",
       "       'Greenwich Village', 'College Point', 'Rockaway Beach',\n",
       "       'Mott Haven', 'Oakwood', 'Morris Heights', 'Inwood', 'Cobble Hill',\n",
       "       'Jamaica Estates', 'Brighton Beach', 'Brooklyn Heights',\n",
       "       'Vinegar Hill', 'Hollis', 'Jamaica Hills', 'Coney Island',\n",
       "       'Arden Heights', 'New Springville', 'Bensonhurst', 'Howard Beach',\n",
       "       'Throgs Neck', 'Cambria Heights', 'Battery Park City', 'Bayside',\n",
       "       'Briarwood', 'Longwood', 'Shore Acres', 'Fordham', 'Whitestone',\n",
       "       'Unionport', 'Castle Hill', 'Bergen Beach', 'Bayswater',\n",
       "       'Port Morris', 'Middle Village', 'NoHo', 'Bellerose', 'Mount Eden',\n",
       "       'Emerson Hill', 'Pelham Bay', 'Randall Manor', 'Mill Basin',\n",
       "       'Fort Hamilton', 'Eltingville', 'Woodrow', 'Clifton',\n",
       "       'New Dorp Beach', 'Grant City', 'Edgemere', 'Lighthouse Hill',\n",
       "       'South Beach', 'Rossville', 'Belle Harbor', 'New Brighton',\n",
       "       'Van Nest', 'Hunts Point', 'Westchester Square', 'Spuyten Duyvil',\n",
       "       'Mariners Harbor', 'Midland Beach', 'Concourse', 'Tottenville',\n",
       "       'Schuylerville', 'Marble Hill', 'Co-op City', 'Stapleton',\n",
       "       'Morrisania', 'Claremont Village', 'Two Bridges', 'Concord',\n",
       "       'Holliswood', 'Dongan Hills', 'City Island', 'Eastchester',\n",
       "       'Columbia St', 'Bronxdale', 'Douglaston', 'Pelham Gardens',\n",
       "       'Olinville', 'Fieldston', 'Highbridge', 'Richmondtown', 'Woodlawn',\n",
       "       'Bay Terrace', 'Huguenot', 'Manhattan Beach', 'Silver Lake',\n",
       "       'Castleton Corners', 'Howland Hook', 'Gerritsen Beach',\n",
       "       'Graniteville', 'Riverdale', 'Great Kills', 'Sea Gate',\n",
       "       'Grymes Hill', 'Soundview', 'Breezy Point', 'Westerleigh',\n",
       "       'Bay Terrace, Staten Island', 'Little Neck', 'Todt Hill',\n",
       "       'Neponsit', 'Willowbrook', 'Chelsea, Staten Island'], dtype=object)"
      ]
     },
     "execution_count": 49,
     "metadata": {},
     "output_type": "execute_result"
    }
   ],
   "source": [
    "df['neighbourhood'].unique()"
   ]
  },
  {
   "cell_type": "code",
   "execution_count": null,
   "metadata": {},
   "outputs": [],
   "source": []
  }
 ],
 "metadata": {
  "kernelspec": {
   "display_name": "cpsc330",
   "language": "python",
   "name": "python3"
  },
  "language_info": {
   "codemirror_mode": {
    "name": "ipython",
    "version": 3
   },
   "file_extension": ".py",
   "mimetype": "text/x-python",
   "name": "python",
   "nbconvert_exporter": "python",
   "pygments_lexer": "ipython3",
   "version": "3.10.0"
  }
 },
 "nbformat": 4,
 "nbformat_minor": 2
}
