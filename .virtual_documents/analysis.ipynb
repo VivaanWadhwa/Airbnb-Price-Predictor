import pandas as pd
import numpy as np
import seaborn as sns
import matplotlib.pyplot as plt
import missingno as msno
from sklearn.impute import SimpleImputer


df = pd.read_csv("data/realtor-data.csv")


df.head()


df.tail()


df.shape


df.describe()


df.info()


msno.bar(df,figsize=(10,5), fontsize=12)
plt.title("Graph to analyze missing Values")
plt.show()


df_updated = df.dropna(subset = "city")


msno.bar(df_updated,figsize=(10,5), fontsize=12)
plt.title("Graph to analyze missing Values")
plt.show()


df_updated = df_updated.dropna(subset="price")


msno.bar(df_updated,figsize=(10,5), fontsize=12)
plt.title("Graph to analyze missing Values")
plt.show()


df_cleaning = df.copy()


df_cleaning = df_cleaning.drop(["zip_code","status"],axis = 1)


df_cleaning['new_house'] = df['prev_sold_date'].isnull().astype(int)


columns_to_exclude = ['city','state','prev_sold_date']
corr_mx = df_cleaning[df_cleaning.columns.difference(columns_to_exclude)].corr()
sns.heatmap(corr_mx, annot = True, cmap = 'coolwarm')


bed_imputer = SimpleImputer(strategy='median')
bath_imputer = SimpleImputer(strategy='median')

bed_imputer.fit(df_cleaning[['bed']])
bath_imputer.fit(df_cleaning[['bath']])

df_cleaning['bed'] = bed_imputer.transform(df_cleaning[['bed']])
df_cleaning['bath'] = bath_imputer.transform(df_cleaning[['bath']])


df_cleaning.isnull().sum()


df.isnull().sum()



