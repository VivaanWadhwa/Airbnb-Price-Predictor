import pandas as pd
import numpy as np
import seaborn as sns
import matplotlib.pyplot as plt
import missingno as msno


df = pd.read_csv("data/realtor-data.csv")


df.head()


df.tail()


df.shape


df.describe()


df.info()


msno.bar(df,figsize=(10,5), fontsize=12)
plt.title("Graph to analyze missing Values")
plt.show()


df_updated = df.dropna(subset = "city")


msno.bar(df_updated,figsize=(10,5), fontsize=12)
plt.title("Graph to analyze missing Values")
plt.show()


df_updated = df_updated.dropna(subset="price")


msno.bar(df_updated,figsize=(10,5), fontsize=12)
plt.title("Graph to analyze missing Values")
plt.show()



