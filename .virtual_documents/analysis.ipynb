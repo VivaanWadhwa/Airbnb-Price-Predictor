from hashlib import sha1
import matplotlib.pyplot as plt
import numpy as np
import pandas as pd
import seaborn as sns
from sklearn.compose import ColumnTransformer, make_column_transformer
from sklearn.dummy import DummyClassifier
from sklearn.impute import SimpleImputer
from sklearn.model_selection import cross_val_score, cross_validate, train_test_split
from sklearn.neighbors import KNeighborsClassifier
from sklearn.pipeline import Pipeline, make_pipeline
from sklearn.preprocessing import OneHotEncoder, StandardScaler, OrdinalEncoder
from sklearn.svm import SVC
from sklearn.tree import DecisionTreeClassifier
import missingno as msno


df = pd.read_csv("data/data.csv")


df.head()


df.tail()


train_df, test_df = train_test_split(df, test_size=0.6, random_state=123)


train_df.head()


train_df.shape


train_df.describe()


train_df.info()


msno.bar(train_df,figsize=(10,5), fontsize=12)
plt.title("Graph to analyze missing Values")
plt.show()


train_df_updated = train_df.dropna(subset = "city")


msno.bar(train_df_updated,figsize=(10,5), fontsize=12)
plt.title("Graph to analyze missing Values")
plt.show()


train_df_updated = train_df_updated.dropna(subset="price")


msno.bar(train_df_updated,figsize=(10,5), fontsize=12)
plt.title("Graph to analyze missing Values")
plt.show()


train_df_cleaning = train_df.copy()


train_df_cleaning = train_df_cleaning.drop(["zip_code","status"],axis = 1)


train_df_cleaning['new_house'] = train_df['prev_sold_date'].isnull().astype(int)


columns_to_exclude = ['city','state','prev_sold_date']
corr_mx = train_df_cleaning[train_df_cleaning.columns.difference(columns_to_exclude)].corr()
sns.heatmap(corr_mx, annot = True, cmap = 'coolwarm')


train_df_cleaning.isnull().sum()


train_df.isnull().sum()


train_df.sort_index()


real_estate_summary = train_df.describe(include = 'all')
real_estate_summary


missing_vals_cols = []
numeric_cols = []
n = train_df.shape[0]
for x in real_estate_summary:
    if real_estate_summary[str(x)]["count"] < n:
        missing_vals_cols.append(str(x))
    if type(real_estate_summary[str(x)]["max"]) == np.float64:
        numeric_cols.append(str(x))
missing_vals_cols
numeric_cols


for x in numeric_cols:
    ax = train_df.groupby("state")[x].plot.hist(bins=50, alpha=0.5, legend=True)
    plt.xlabel(x)
    plt.title("Histogram of " + x)
    plt.show()


target = "price"


X_train = train_df.loc[:,train_df.columns != target]
y_train = train_df[target]
X_test = test_df.loc[:,test_df.columns != target]
y_test = test_df[target]


dummy_classifier = DummyClassifier(strategy = "most_frequent")
cv_scores = cross_validate(dummy_classifier, X_train, y_train, cv = 5, return_train_score = True)
dummy_df = pd.DataFrame(cv_scores)
dummy_df.head()



