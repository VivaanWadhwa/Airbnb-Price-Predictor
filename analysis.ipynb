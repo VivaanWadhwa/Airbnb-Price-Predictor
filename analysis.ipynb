{
 "cells": [
  {
   "cell_type": "markdown",
   "id": "5fb8d189-aa4d-4fa9-b52a-09d236a7885a",
   "metadata": {},
   "source": [
    "## Installing Packages"
   ]
  },
  {
   "cell_type": "code",
   "execution_count": 13,
   "id": "68fa5522-d1ee-4b7e-90d8-d3c9547ef591",
   "metadata": {},
   "outputs": [
    {
     "ename": "ImportError",
     "evalue": "cannot import name 'SimpleImputer' from 'sklearn.preprocessing' (/Users/vivaanwadhwa/miniconda3/envs/cpsc330/lib/python3.10/site-packages/sklearn/preprocessing/__init__.py)",
     "output_type": "error",
     "traceback": [
      "\u001b[0;31m---------------------------------------------------------------------------\u001b[0m",
      "\u001b[0;31mImportError\u001b[0m                               Traceback (most recent call last)",
      "Cell \u001b[0;32mIn[13], line 22\u001b[0m\n\u001b[1;32m     20\u001b[0m \u001b[38;5;28;01mfrom\u001b[39;00m \u001b[38;5;21;01msklearn\u001b[39;00m\u001b[38;5;21;01m.\u001b[39;00m\u001b[38;5;21;01mmodel_selection\u001b[39;00m \u001b[38;5;28;01mimport\u001b[39;00m GridSearchCV, cross_val_score, cross_validate, train_test_split \n\u001b[1;32m     21\u001b[0m \u001b[38;5;28;01mfrom\u001b[39;00m \u001b[38;5;21;01msklearn\u001b[39;00m\u001b[38;5;21;01m.\u001b[39;00m\u001b[38;5;21;01mpipeline\u001b[39;00m \u001b[38;5;28;01mimport\u001b[39;00m Pipeline, make_pipeline\n\u001b[0;32m---> 22\u001b[0m \u001b[38;5;28;01mfrom\u001b[39;00m \u001b[38;5;21;01msklearn\u001b[39;00m\u001b[38;5;21;01m.\u001b[39;00m\u001b[38;5;21;01mpreprocessing\u001b[39;00m \u001b[38;5;28;01mimport\u001b[39;00m OneHotEncoder, StandardScaler,KBinsDiscretizer, SimpleImputer\n\u001b[1;32m     23\u001b[0m \u001b[38;5;28;01mfrom\u001b[39;00m \u001b[38;5;21;01mlightgbm\u001b[39;00m\u001b[38;5;21;01m.\u001b[39;00m\u001b[38;5;21;01msklearn\u001b[39;00m \u001b[38;5;28;01mimport\u001b[39;00m LGBMRegressor\n\u001b[1;32m     24\u001b[0m \u001b[38;5;28;01mfrom\u001b[39;00m \u001b[38;5;21;01msklearn\u001b[39;00m\u001b[38;5;21;01m.\u001b[39;00m\u001b[38;5;21;01mfeature_selection\u001b[39;00m \u001b[38;5;28;01mimport\u001b[39;00m RFECV\n",
      "\u001b[0;31mImportError\u001b[0m: cannot import name 'SimpleImputer' from 'sklearn.preprocessing' (/Users/vivaanwadhwa/miniconda3/envs/cpsc330/lib/python3.10/site-packages/sklearn/preprocessing/__init__.py)"
     ]
    }
   ],
   "source": [
    "from hashlib import sha1\n",
    "import matplotlib.pyplot as plt\n",
    "import numpy as np\n",
    "import pandas as pd\n",
    "import random\n",
    "import seaborn as sns\n",
    "\n",
    "plt.rcParams[\"font.size\"] = 16\n",
    "\n",
    "from sklearn.compose import (\n",
    "    ColumnTransformer,\n",
    "    TransformedTargetRegressor,\n",
    "    make_column_transformer,\n",
    ")\n",
    "from sklearn.dummy import DummyRegressor\n",
    "from sklearn.tree import DecisionTreeRegressor\n",
    "from sklearn.ensemble import RandomForestRegressor\n",
    "from sklearn.linear_model import Ridge, RidgeCV\n",
    "from sklearn.metrics import make_scorer, mean_absolute_percentage_error\n",
    "from sklearn.model_selection import GridSearchCV, cross_val_score, cross_validate, train_test_split \n",
    "from sklearn.pipeline import Pipeline, make_pipeline\n",
    "from sklearn.preprocessing import OneHotEncoder, StandardScaler,KBinsDiscretizer\n",
    "from lightgbm.sklearn import LGBMRegressor\n",
    "from sklearn.feature_selection import RFECV\n",
    "from sklearn.model_selection import RandomizedSearchCV\n",
    "from sklearn.feature_selection import SelectFromModel\n",
    "import seaborn as sns\n",
    "# import shap"
   ]
  },
  {
   "cell_type": "markdown",
   "id": "2ddf3aca-5d43-4037-add5-449d19c50048",
   "metadata": {},
   "source": [
    "## Reading Dataset"
   ]
  },
  {
   "cell_type": "code",
   "execution_count": 2,
   "id": "0ea5aad0-4d96-431b-9992-994a8a44db5c",
   "metadata": {},
   "outputs": [],
   "source": [
    "df = pd.read_csv(\"data/data.csv\")"
   ]
  },
  {
   "cell_type": "code",
   "execution_count": 3,
   "id": "656b9b26",
   "metadata": {},
   "outputs": [],
   "source": [
    "train_df, test_df= train_test_split(df,test_size=0.3, random_state=123)\n",
    "train_df, test_df= train_df.reset_index(), test_df.reset_index()"
   ]
  },
  {
   "cell_type": "code",
   "execution_count": 4,
   "id": "969a59f7-27a1-48ba-90e2-ec27074aabd8",
   "metadata": {},
   "outputs": [
    {
     "data": {
      "text/html": [
       "<div>\n",
       "<style scoped>\n",
       "    .dataframe tbody tr th:only-of-type {\n",
       "        vertical-align: middle;\n",
       "    }\n",
       "\n",
       "    .dataframe tbody tr th {\n",
       "        vertical-align: top;\n",
       "    }\n",
       "\n",
       "    .dataframe thead th {\n",
       "        text-align: right;\n",
       "    }\n",
       "</style>\n",
       "<table border=\"1\" class=\"dataframe\">\n",
       "  <thead>\n",
       "    <tr style=\"text-align: right;\">\n",
       "      <th></th>\n",
       "      <th>index</th>\n",
       "      <th>status</th>\n",
       "      <th>bed</th>\n",
       "      <th>bath</th>\n",
       "      <th>acre_lot</th>\n",
       "      <th>city</th>\n",
       "      <th>state</th>\n",
       "      <th>zip_code</th>\n",
       "      <th>house_size</th>\n",
       "      <th>prev_sold_date</th>\n",
       "      <th>price</th>\n",
       "    </tr>\n",
       "  </thead>\n",
       "  <tbody>\n",
       "    <tr>\n",
       "      <th>0</th>\n",
       "      <td>592965</td>\n",
       "      <td>for_sale</td>\n",
       "      <td>4.0</td>\n",
       "      <td>2.0</td>\n",
       "      <td>1.69</td>\n",
       "      <td>Lebanon</td>\n",
       "      <td>New Jersey</td>\n",
       "      <td>8826.0</td>\n",
       "      <td>NaN</td>\n",
       "      <td>2014-05-22</td>\n",
       "      <td>389900.0</td>\n",
       "    </tr>\n",
       "    <tr>\n",
       "      <th>1</th>\n",
       "      <td>132488</td>\n",
       "      <td>for_sale</td>\n",
       "      <td>2.0</td>\n",
       "      <td>2.0</td>\n",
       "      <td>0.16</td>\n",
       "      <td>Belmont</td>\n",
       "      <td>Massachusetts</td>\n",
       "      <td>2478.0</td>\n",
       "      <td>2452.0</td>\n",
       "      <td>2003-09-22</td>\n",
       "      <td>1450000.0</td>\n",
       "    </tr>\n",
       "    <tr>\n",
       "      <th>2</th>\n",
       "      <td>235274</td>\n",
       "      <td>for_sale</td>\n",
       "      <td>2.0</td>\n",
       "      <td>1.0</td>\n",
       "      <td>0.09</td>\n",
       "      <td>Providence</td>\n",
       "      <td>Rhode Island</td>\n",
       "      <td>2903.0</td>\n",
       "      <td>1395.0</td>\n",
       "      <td>NaN</td>\n",
       "      <td>309000.0</td>\n",
       "    </tr>\n",
       "    <tr>\n",
       "      <th>3</th>\n",
       "      <td>283435</td>\n",
       "      <td>for_sale</td>\n",
       "      <td>8.0</td>\n",
       "      <td>4.0</td>\n",
       "      <td>0.14</td>\n",
       "      <td>Haverhill</td>\n",
       "      <td>Massachusetts</td>\n",
       "      <td>1830.0</td>\n",
       "      <td>2418.0</td>\n",
       "      <td>NaN</td>\n",
       "      <td>599000.0</td>\n",
       "    </tr>\n",
       "    <tr>\n",
       "      <th>4</th>\n",
       "      <td>813679</td>\n",
       "      <td>for_sale</td>\n",
       "      <td>3.0</td>\n",
       "      <td>1.0</td>\n",
       "      <td>0.07</td>\n",
       "      <td>Mount Vernon</td>\n",
       "      <td>New York</td>\n",
       "      <td>10550.0</td>\n",
       "      <td>1700.0</td>\n",
       "      <td>2009-09-03</td>\n",
       "      <td>200000.0</td>\n",
       "    </tr>\n",
       "  </tbody>\n",
       "</table>\n",
       "</div>"
      ],
      "text/plain": [
       "    index    status  bed  bath  acre_lot          city          state  \\\n",
       "0  592965  for_sale  4.0   2.0      1.69       Lebanon     New Jersey   \n",
       "1  132488  for_sale  2.0   2.0      0.16       Belmont  Massachusetts   \n",
       "2  235274  for_sale  2.0   1.0      0.09    Providence   Rhode Island   \n",
       "3  283435  for_sale  8.0   4.0      0.14     Haverhill  Massachusetts   \n",
       "4  813679  for_sale  3.0   1.0      0.07  Mount Vernon       New York   \n",
       "\n",
       "   zip_code  house_size prev_sold_date      price  \n",
       "0    8826.0         NaN     2014-05-22   389900.0  \n",
       "1    2478.0      2452.0     2003-09-22  1450000.0  \n",
       "2    2903.0      1395.0            NaN   309000.0  \n",
       "3    1830.0      2418.0            NaN   599000.0  \n",
       "4   10550.0      1700.0     2009-09-03   200000.0  "
      ]
     },
     "execution_count": 4,
     "metadata": {},
     "output_type": "execute_result"
    }
   ],
   "source": [
    "train_df.head()"
   ]
  },
  {
   "cell_type": "markdown",
   "id": "65bd56ee-0bef-439e-a1a8-1fb228bc687c",
   "metadata": {},
   "source": [
    "## Preliminary Analysis"
   ]
  },
  {
   "cell_type": "code",
   "execution_count": 5,
   "id": "4f8f6cd4-b45e-458f-9958-e62d6dbdc9d9",
   "metadata": {},
   "outputs": [
    {
     "data": {
      "text/plain": [
       "(633476, 11)"
      ]
     },
     "execution_count": 5,
     "metadata": {},
     "output_type": "execute_result"
    }
   ],
   "source": [
    "train_df.shape"
   ]
  },
  {
   "cell_type": "code",
   "execution_count": 6,
   "id": "e2b0e176-5a05-4d17-8586-0a44f41db602",
   "metadata": {},
   "outputs": [
    {
     "data": {
      "text/html": [
       "<div>\n",
       "<style scoped>\n",
       "    .dataframe tbody tr th:only-of-type {\n",
       "        vertical-align: middle;\n",
       "    }\n",
       "\n",
       "    .dataframe tbody tr th {\n",
       "        vertical-align: top;\n",
       "    }\n",
       "\n",
       "    .dataframe thead th {\n",
       "        text-align: right;\n",
       "    }\n",
       "</style>\n",
       "<table border=\"1\" class=\"dataframe\">\n",
       "  <thead>\n",
       "    <tr style=\"text-align: right;\">\n",
       "      <th></th>\n",
       "      <th>index</th>\n",
       "      <th>bed</th>\n",
       "      <th>bath</th>\n",
       "      <th>acre_lot</th>\n",
       "      <th>zip_code</th>\n",
       "      <th>house_size</th>\n",
       "      <th>price</th>\n",
       "    </tr>\n",
       "  </thead>\n",
       "  <tbody>\n",
       "    <tr>\n",
       "      <th>count</th>\n",
       "      <td>633476.000000</td>\n",
       "      <td>542599.000000</td>\n",
       "      <td>553794.000000</td>\n",
       "      <td>446808.000000</td>\n",
       "      <td>633329.000000</td>\n",
       "      <td>4.285600e+05</td>\n",
       "      <td>6.334270e+05</td>\n",
       "    </tr>\n",
       "    <tr>\n",
       "      <th>mean</th>\n",
       "      <td>452091.471334</td>\n",
       "      <td>3.331930</td>\n",
       "      <td>2.485547</td>\n",
       "      <td>16.944473</td>\n",
       "      <td>6513.814735</td>\n",
       "      <td>2.140715e+03</td>\n",
       "      <td>8.809529e+05</td>\n",
       "    </tr>\n",
       "    <tr>\n",
       "      <th>std</th>\n",
       "      <td>261284.123710</td>\n",
       "      <td>2.064298</td>\n",
       "      <td>1.898663</td>\n",
       "      <td>948.028332</td>\n",
       "      <td>3818.076267</td>\n",
       "      <td>3.249101e+03</td>\n",
       "      <td>2.676120e+06</td>\n",
       "    </tr>\n",
       "    <tr>\n",
       "      <th>min</th>\n",
       "      <td>0.000000</td>\n",
       "      <td>1.000000</td>\n",
       "      <td>1.000000</td>\n",
       "      <td>0.000000</td>\n",
       "      <td>601.000000</td>\n",
       "      <td>1.000000e+02</td>\n",
       "      <td>0.000000e+00</td>\n",
       "    </tr>\n",
       "    <tr>\n",
       "      <th>25%</th>\n",
       "      <td>225849.500000</td>\n",
       "      <td>2.000000</td>\n",
       "      <td>2.000000</td>\n",
       "      <td>0.110000</td>\n",
       "      <td>2908.000000</td>\n",
       "      <td>1.134000e+03</td>\n",
       "      <td>2.690000e+05</td>\n",
       "    </tr>\n",
       "    <tr>\n",
       "      <th>50%</th>\n",
       "      <td>451798.500000</td>\n",
       "      <td>3.000000</td>\n",
       "      <td>2.000000</td>\n",
       "      <td>0.290000</td>\n",
       "      <td>6798.000000</td>\n",
       "      <td>1.654000e+03</td>\n",
       "      <td>4.750000e+05</td>\n",
       "    </tr>\n",
       "    <tr>\n",
       "      <th>75%</th>\n",
       "      <td>678469.250000</td>\n",
       "      <td>4.000000</td>\n",
       "      <td>3.000000</td>\n",
       "      <td>1.150000</td>\n",
       "      <td>8853.000000</td>\n",
       "      <td>2.499000e+03</td>\n",
       "      <td>8.315000e+05</td>\n",
       "    </tr>\n",
       "    <tr>\n",
       "      <th>max</th>\n",
       "      <td>904963.000000</td>\n",
       "      <td>123.000000</td>\n",
       "      <td>198.000000</td>\n",
       "      <td>100000.000000</td>\n",
       "      <td>99999.000000</td>\n",
       "      <td>1.450112e+06</td>\n",
       "      <td>8.750000e+08</td>\n",
       "    </tr>\n",
       "  </tbody>\n",
       "</table>\n",
       "</div>"
      ],
      "text/plain": [
       "               index            bed           bath       acre_lot  \\\n",
       "count  633476.000000  542599.000000  553794.000000  446808.000000   \n",
       "mean   452091.471334       3.331930       2.485547      16.944473   \n",
       "std    261284.123710       2.064298       1.898663     948.028332   \n",
       "min         0.000000       1.000000       1.000000       0.000000   \n",
       "25%    225849.500000       2.000000       2.000000       0.110000   \n",
       "50%    451798.500000       3.000000       2.000000       0.290000   \n",
       "75%    678469.250000       4.000000       3.000000       1.150000   \n",
       "max    904963.000000     123.000000     198.000000  100000.000000   \n",
       "\n",
       "            zip_code    house_size         price  \n",
       "count  633329.000000  4.285600e+05  6.334270e+05  \n",
       "mean     6513.814735  2.140715e+03  8.809529e+05  \n",
       "std      3818.076267  3.249101e+03  2.676120e+06  \n",
       "min       601.000000  1.000000e+02  0.000000e+00  \n",
       "25%      2908.000000  1.134000e+03  2.690000e+05  \n",
       "50%      6798.000000  1.654000e+03  4.750000e+05  \n",
       "75%      8853.000000  2.499000e+03  8.315000e+05  \n",
       "max     99999.000000  1.450112e+06  8.750000e+08  "
      ]
     },
     "execution_count": 6,
     "metadata": {},
     "output_type": "execute_result"
    }
   ],
   "source": [
    "train_df.describe()"
   ]
  },
  {
   "cell_type": "code",
   "execution_count": 7,
   "id": "a8303ba2-7c0e-4f4e-bd4f-e4ac44324ec1",
   "metadata": {},
   "outputs": [
    {
     "data": {
      "text/plain": [
       "index                  0\n",
       "status                 0\n",
       "bed                90877\n",
       "bath               79682\n",
       "acre_lot          186668\n",
       "city                  53\n",
       "state                  0\n",
       "zip_code             147\n",
       "house_size        204916\n",
       "prev_sold_date    321701\n",
       "price                 49\n",
       "dtype: int64"
      ]
     },
     "execution_count": 7,
     "metadata": {},
     "output_type": "execute_result"
    }
   ],
   "source": [
    "train_df.isnull().sum()"
   ]
  },
  {
   "cell_type": "markdown",
   "id": "4c321f34-540e-423e-9b8e-aac00c8ab613",
   "metadata": {},
   "source": [
    "### Cleaning the Data"
   ]
  },
  {
   "cell_type": "code",
   "execution_count": 16,
   "id": "d61789bb",
   "metadata": {},
   "outputs": [],
   "source": [
    "train_df['NewHouse'] = train_df['prev_sold_date'].isnull().apply(lambda x: 1 if x else 0)"
   ]
  },
  {
   "cell_type": "code",
   "execution_count": null,
   "id": "935c77a9",
   "metadata": {},
   "outputs": [],
   "source": []
  },
  {
   "cell_type": "code",
   "execution_count": 14,
   "id": "219d218a",
   "metadata": {},
   "outputs": [],
   "source": [
    "X_train = train_df.drop(columns=[\"price\"])\n",
    "y_train = train_df[\"price\"]\n",
    "\n",
    "X_test = test_df.drop(columns=[\"price\"])\n",
    "y_test = test_df[\"price\"]"
   ]
  }
 ],
 "metadata": {
  "kernelspec": {
   "display_name": "Python 3 (ipykernel)",
   "language": "python",
   "name": "python3"
  },
  "language_info": {
   "codemirror_mode": {
    "name": "ipython",
    "version": 3
   },
   "file_extension": ".py",
   "mimetype": "text/x-python",
   "name": "python",
   "nbconvert_exporter": "python",
   "pygments_lexer": "ipython3",
   "version": "3.11.4"
  }
 },
 "nbformat": 4,
 "nbformat_minor": 5
}
