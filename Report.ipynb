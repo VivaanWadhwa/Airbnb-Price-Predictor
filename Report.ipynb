{
 "cells": [
  {
   "cell_type": "markdown",
   "id": "1691f0f2-74ab-4c49-97ad-f6b851037b36",
   "metadata": {},
   "source": [
    "# Real Estate Price Prediction Analysis"
   ]
  },
  {
   "cell_type": "markdown",
   "id": "5a6db6ef-c02e-4b43-8a78-10096642d47e",
   "metadata": {},
   "source": [
    "#### Imports"
   ]
  },
  {
   "cell_type": "code",
   "execution_count": 2,
   "id": "b3da2c3e-3909-47d9-a072-e2ec51166ccf",
   "metadata": {},
   "outputs": [],
   "source": [
    "from hashlib import sha1\n",
    "import matplotlib.pyplot as plt\n",
    "import numpy as np\n",
    "import pandas as pd\n",
    "from sklearn.compose import ColumnTransformer, make_column_transformer\n",
    "from sklearn.dummy import DummyClassifier\n",
    "from sklearn.impute import SimpleImputer\n",
    "from sklearn.model_selection import cross_val_score, cross_validate, train_test_split\n",
    "from sklearn.neighbors import KNeighborsClassifier\n",
    "from sklearn.pipeline import Pipeline, make_pipeline\n",
    "from sklearn.preprocessing import OneHotEncoder, StandardScaler, OrdinalEncoder\n",
    "from sklearn.svm import SVC\n",
    "from sklearn.tree import DecisionTreeClassifier"
   ]
  },
  {
   "cell_type": "markdown",
   "id": "afe62c92-75ee-46ab-bfa3-ae66521429ab",
   "metadata": {},
   "source": [
    "## Introduction"
   ]
  },
  {
   "cell_type": "markdown",
   "id": "fe0aaaef-0938-4686-b439-5da1308765de",
   "metadata": {},
   "source": [
    "Introduction to problem, Problem Statement, and Describing Dataset"
   ]
  },
  {
   "cell_type": "markdown",
   "id": "7e8f25f1-6e49-4c47-a1a0-1331a6d2a71a",
   "metadata": {},
   "source": [
    "## Preliminary Data Analysis"
   ]
  },
  {
   "cell_type": "code",
   "execution_count": 3,
   "id": "8a71641d-7a6b-490e-b973-34ff0ae9374c",
   "metadata": {},
   "outputs": [
    {
     "data": {
      "text/plain": [
       "(904966, 10)"
      ]
     },
     "execution_count": 3,
     "metadata": {},
     "output_type": "execute_result"
    }
   ],
   "source": [
    "real_estate_df = pd.read_csv(\"data/data.csv\")\n",
    "real_estate_df.shape"
   ]
  },
  {
   "cell_type": "markdown",
   "id": "46636e0c-1cee-4121-9800-6043586606ff",
   "metadata": {},
   "source": [
    "To prevent any violation of the golden rule, the initial step before proceeding with any task is to split the data."
   ]
  },
  {
   "cell_type": "code",
   "execution_count": 5,
   "id": "6e3493da-3fb0-4f59-9fc4-384e5c5ea238",
   "metadata": {},
   "outputs": [],
   "source": [
    "train_df, test_df = train_test_split(real_estate_df, test_size=0.6, random_state=123)"
   ]
  },
  {
   "cell_type": "markdown",
   "id": "9777e4e9-3174-4c12-99ab-19ea5217ab7c",
   "metadata": {},
   "source": [
    "Now, we will explore`train_df` to look for any missing values and differentiate between the different features for our Pipeline later on."
   ]
  },
  {
   "cell_type": "code",
   "execution_count": 6,
   "id": "30c124fc-b1da-44c8-9991-c03eddb93959",
   "metadata": {},
   "outputs": [
    {
     "data": {
      "text/html": [
       "<div>\n",
       "<style scoped>\n",
       "    .dataframe tbody tr th:only-of-type {\n",
       "        vertical-align: middle;\n",
       "    }\n",
       "\n",
       "    .dataframe tbody tr th {\n",
       "        vertical-align: top;\n",
       "    }\n",
       "\n",
       "    .dataframe thead th {\n",
       "        text-align: right;\n",
       "    }\n",
       "</style>\n",
       "<table border=\"1\" class=\"dataframe\">\n",
       "  <thead>\n",
       "    <tr style=\"text-align: right;\">\n",
       "      <th></th>\n",
       "      <th>status</th>\n",
       "      <th>bed</th>\n",
       "      <th>bath</th>\n",
       "      <th>acre_lot</th>\n",
       "      <th>city</th>\n",
       "      <th>state</th>\n",
       "      <th>zip_code</th>\n",
       "      <th>house_size</th>\n",
       "      <th>prev_sold_date</th>\n",
       "      <th>price</th>\n",
       "    </tr>\n",
       "  </thead>\n",
       "  <tbody>\n",
       "    <tr>\n",
       "      <th>2</th>\n",
       "      <td>for_sale</td>\n",
       "      <td>2.0</td>\n",
       "      <td>1.0</td>\n",
       "      <td>0.15</td>\n",
       "      <td>Juana Diaz</td>\n",
       "      <td>Puerto Rico</td>\n",
       "      <td>795.0</td>\n",
       "      <td>748.0</td>\n",
       "      <td>NaN</td>\n",
       "      <td>67000.0</td>\n",
       "    </tr>\n",
       "    <tr>\n",
       "      <th>4</th>\n",
       "      <td>for_sale</td>\n",
       "      <td>6.0</td>\n",
       "      <td>2.0</td>\n",
       "      <td>0.05</td>\n",
       "      <td>Mayaguez</td>\n",
       "      <td>Puerto Rico</td>\n",
       "      <td>680.0</td>\n",
       "      <td>NaN</td>\n",
       "      <td>NaN</td>\n",
       "      <td>65000.0</td>\n",
       "    </tr>\n",
       "    <tr>\n",
       "      <th>5</th>\n",
       "      <td>for_sale</td>\n",
       "      <td>4.0</td>\n",
       "      <td>3.0</td>\n",
       "      <td>0.46</td>\n",
       "      <td>San Sebastian</td>\n",
       "      <td>Puerto Rico</td>\n",
       "      <td>612.0</td>\n",
       "      <td>2520.0</td>\n",
       "      <td>NaN</td>\n",
       "      <td>179000.0</td>\n",
       "    </tr>\n",
       "    <tr>\n",
       "      <th>7</th>\n",
       "      <td>for_sale</td>\n",
       "      <td>3.0</td>\n",
       "      <td>2.0</td>\n",
       "      <td>0.08</td>\n",
       "      <td>Ponce</td>\n",
       "      <td>Puerto Rico</td>\n",
       "      <td>731.0</td>\n",
       "      <td>1050.0</td>\n",
       "      <td>NaN</td>\n",
       "      <td>71600.0</td>\n",
       "    </tr>\n",
       "    <tr>\n",
       "      <th>8</th>\n",
       "      <td>for_sale</td>\n",
       "      <td>2.0</td>\n",
       "      <td>1.0</td>\n",
       "      <td>0.09</td>\n",
       "      <td>Ponce</td>\n",
       "      <td>Puerto Rico</td>\n",
       "      <td>730.0</td>\n",
       "      <td>1092.0</td>\n",
       "      <td>NaN</td>\n",
       "      <td>100000.0</td>\n",
       "    </tr>\n",
       "    <tr>\n",
       "      <th>...</th>\n",
       "      <td>...</td>\n",
       "      <td>...</td>\n",
       "      <td>...</td>\n",
       "      <td>...</td>\n",
       "      <td>...</td>\n",
       "      <td>...</td>\n",
       "      <td>...</td>\n",
       "      <td>...</td>\n",
       "      <td>...</td>\n",
       "      <td>...</td>\n",
       "    </tr>\n",
       "    <tr>\n",
       "      <th>904954</th>\n",
       "      <td>for_sale</td>\n",
       "      <td>1.0</td>\n",
       "      <td>1.0</td>\n",
       "      <td>NaN</td>\n",
       "      <td>New York City</td>\n",
       "      <td>New York</td>\n",
       "      <td>10463.0</td>\n",
       "      <td>NaN</td>\n",
       "      <td>NaN</td>\n",
       "      <td>200000.0</td>\n",
       "    </tr>\n",
       "    <tr>\n",
       "      <th>904955</th>\n",
       "      <td>for_sale</td>\n",
       "      <td>1.0</td>\n",
       "      <td>1.0</td>\n",
       "      <td>NaN</td>\n",
       "      <td>New York City</td>\n",
       "      <td>New York</td>\n",
       "      <td>10463.0</td>\n",
       "      <td>800.0</td>\n",
       "      <td>NaN</td>\n",
       "      <td>225000.0</td>\n",
       "    </tr>\n",
       "    <tr>\n",
       "      <th>904958</th>\n",
       "      <td>for_sale</td>\n",
       "      <td>1.0</td>\n",
       "      <td>1.0</td>\n",
       "      <td>NaN</td>\n",
       "      <td>Bronx</td>\n",
       "      <td>New York</td>\n",
       "      <td>10463.0</td>\n",
       "      <td>700.0</td>\n",
       "      <td>NaN</td>\n",
       "      <td>245000.0</td>\n",
       "    </tr>\n",
       "    <tr>\n",
       "      <th>904959</th>\n",
       "      <td>for_sale</td>\n",
       "      <td>1.0</td>\n",
       "      <td>1.0</td>\n",
       "      <td>NaN</td>\n",
       "      <td>New York City</td>\n",
       "      <td>New York</td>\n",
       "      <td>10463.0</td>\n",
       "      <td>720.0</td>\n",
       "      <td>2022-04-01</td>\n",
       "      <td>265000.0</td>\n",
       "    </tr>\n",
       "    <tr>\n",
       "      <th>904963</th>\n",
       "      <td>for_sale</td>\n",
       "      <td>NaN</td>\n",
       "      <td>1.0</td>\n",
       "      <td>NaN</td>\n",
       "      <td>Bronx</td>\n",
       "      <td>New York</td>\n",
       "      <td>10463.0</td>\n",
       "      <td>NaN</td>\n",
       "      <td>NaN</td>\n",
       "      <td>120000.0</td>\n",
       "    </tr>\n",
       "  </tbody>\n",
       "</table>\n",
       "<p>361986 rows × 10 columns</p>\n",
       "</div>"
      ],
      "text/plain": [
       "          status  bed  bath  acre_lot           city        state  zip_code   \n",
       "2       for_sale  2.0   1.0      0.15     Juana Diaz  Puerto Rico     795.0  \\\n",
       "4       for_sale  6.0   2.0      0.05       Mayaguez  Puerto Rico     680.0   \n",
       "5       for_sale  4.0   3.0      0.46  San Sebastian  Puerto Rico     612.0   \n",
       "7       for_sale  3.0   2.0      0.08          Ponce  Puerto Rico     731.0   \n",
       "8       for_sale  2.0   1.0      0.09          Ponce  Puerto Rico     730.0   \n",
       "...          ...  ...   ...       ...            ...          ...       ...   \n",
       "904954  for_sale  1.0   1.0       NaN  New York City     New York   10463.0   \n",
       "904955  for_sale  1.0   1.0       NaN  New York City     New York   10463.0   \n",
       "904958  for_sale  1.0   1.0       NaN          Bronx     New York   10463.0   \n",
       "904959  for_sale  1.0   1.0       NaN  New York City     New York   10463.0   \n",
       "904963  for_sale  NaN   1.0       NaN          Bronx     New York   10463.0   \n",
       "\n",
       "        house_size prev_sold_date     price  \n",
       "2            748.0            NaN   67000.0  \n",
       "4              NaN            NaN   65000.0  \n",
       "5           2520.0            NaN  179000.0  \n",
       "7           1050.0            NaN   71600.0  \n",
       "8           1092.0            NaN  100000.0  \n",
       "...            ...            ...       ...  \n",
       "904954         NaN            NaN  200000.0  \n",
       "904955       800.0            NaN  225000.0  \n",
       "904958       700.0            NaN  245000.0  \n",
       "904959       720.0     2022-04-01  265000.0  \n",
       "904963         NaN            NaN  120000.0  \n",
       "\n",
       "[361986 rows x 10 columns]"
      ]
     },
     "execution_count": 6,
     "metadata": {},
     "output_type": "execute_result"
    }
   ],
   "source": [
    "train_df.sort_index()"
   ]
  },
  {
   "cell_type": "code",
   "execution_count": null,
   "id": "b3bfef40-19b9-4047-ac6e-1db04fb46268",
   "metadata": {},
   "outputs": [],
   "source": [
    "train_df.des"
   ]
  }
 ],
 "metadata": {
  "kernelspec": {
   "display_name": "Python 3 (ipykernel)",
   "language": "python",
   "name": "python3"
  },
  "language_info": {
   "codemirror_mode": {
    "name": "ipython",
    "version": 3
   },
   "file_extension": ".py",
   "mimetype": "text/x-python",
   "name": "python",
   "nbconvert_exporter": "python",
   "pygments_lexer": "ipython3",
   "version": "3.10.8"
  }
 },
 "nbformat": 4,
 "nbformat_minor": 5
}
