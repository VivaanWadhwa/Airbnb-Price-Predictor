{
 "cells": [
  {
   "cell_type": "markdown",
   "id": "1691f0f2-74ab-4c49-97ad-f6b851037b36",
   "metadata": {},
   "source": [
    "# Real Estate Price Prediction Analysis"
   ]
  },
  {
   "cell_type": "markdown",
   "id": "5a6db6ef-c02e-4b43-8a78-10096642d47e",
   "metadata": {},
   "source": [
    "#### Imports"
   ]
  },
  {
   "cell_type": "code",
   "execution_count": 1,
   "id": "b3da2c3e-3909-47d9-a072-e2ec51166ccf",
   "metadata": {},
   "outputs": [],
   "source": [
    "from hashlib import sha1\n",
    "import matplotlib.pyplot as plt\n",
    "import numpy as np\n",
    "import pandas as pd\n",
    "from sklearn.compose import ColumnTransformer, make_column_transformer\n",
    "from sklearn.dummy import DummyClassifier\n",
    "from sklearn.impute import SimpleImputer\n",
    "from sklearn.model_selection import cross_val_score, cross_validate, train_test_split\n",
    "from sklearn.neighbors import KNeighborsClassifier\n",
    "from sklearn.pipeline import Pipeline, make_pipeline\n",
    "from sklearn.preprocessing import OneHotEncoder, StandardScaler, OrdinalEncoder\n",
    "from sklearn.svm import SVC\n",
    "from sklearn.tree import DecisionTreeClassifier"
   ]
  },
  {
   "cell_type": "markdown",
   "id": "afe62c92-75ee-46ab-bfa3-ae66521429ab",
   "metadata": {},
   "source": [
    "## Introduction"
   ]
  },
  {
   "cell_type": "markdown",
   "id": "fe0aaaef-0938-4686-b439-5da1308765de",
   "metadata": {},
   "source": [
    "Introduction to problem, Problem Statement, and Describing Dataset"
   ]
  },
  {
   "cell_type": "markdown",
   "id": "7e8f25f1-6e49-4c47-a1a0-1331a6d2a71a",
   "metadata": {},
   "source": [
    "## Preliminary Data Analysis"
   ]
  },
  {
   "cell_type": "code",
   "execution_count": null,
   "id": "8a71641d-7a6b-490e-b973-34ff0ae9374c",
   "metadata": {},
   "outputs": [],
   "source": [
    "real_estate_df = pd.read_csv(\"data/data.csv\")"
   ]
  }
 ],
 "metadata": {
  "kernelspec": {
   "display_name": "Python 3 (ipykernel)",
   "language": "python",
   "name": "python3"
  },
  "language_info": {
   "codemirror_mode": {
    "name": "ipython",
    "version": 3
   },
   "file_extension": ".py",
   "mimetype": "text/x-python",
   "name": "python",
   "nbconvert_exporter": "python",
   "pygments_lexer": "ipython3",
   "version": "3.10.8"
  }
 },
 "nbformat": 4,
 "nbformat_minor": 5
}
